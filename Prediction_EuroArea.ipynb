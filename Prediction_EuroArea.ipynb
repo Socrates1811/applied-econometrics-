{
 "cells": [
  {
   "cell_type": "code",
   "execution_count": 1,
   "metadata": {},
   "outputs": [],
   "source": [
    "import numpy as np\n",
    "import pandas as pd\n",
    "import matplotlib.pyplot as plt\n",
    "import seaborn as sns"
   ]
  },
  {
   "cell_type": "code",
   "execution_count": 2,
   "metadata": {},
   "outputs": [
    {
     "data": {
      "text/html": [
       "<div>\n",
       "<style scoped>\n",
       "    .dataframe tbody tr th:only-of-type {\n",
       "        vertical-align: middle;\n",
       "    }\n",
       "\n",
       "    .dataframe tbody tr th {\n",
       "        vertical-align: top;\n",
       "    }\n",
       "\n",
       "    .dataframe thead th {\n",
       "        text-align: right;\n",
       "    }\n",
       "</style>\n",
       "<table border=\"1\" class=\"dataframe\">\n",
       "  <thead>\n",
       "    <tr style=\"text-align: right;\">\n",
       "      <th></th>\n",
       "      <th>GDP in millions of euros</th>\n",
       "      <th>Euro Area debt in percent of GDP</th>\n",
       "      <th>unemployment rate</th>\n",
       "      <th>industry index</th>\n",
       "      <th>ESI</th>\n",
       "      <th>trade openess index</th>\n",
       "      <th>HICP index change(inflation)</th>\n",
       "      <th>capacity utilization in percent</th>\n",
       "      <th>PMI</th>\n",
       "    </tr>\n",
       "    <tr>\n",
       "      <th>observation_date</th>\n",
       "      <th></th>\n",
       "      <th></th>\n",
       "      <th></th>\n",
       "      <th></th>\n",
       "      <th></th>\n",
       "      <th></th>\n",
       "      <th></th>\n",
       "      <th></th>\n",
       "      <th></th>\n",
       "    </tr>\n",
       "  </thead>\n",
       "  <tbody>\n",
       "    <tr>\n",
       "      <th>2000-01-01</th>\n",
       "      <td>1725152.8</td>\n",
       "      <td>71.5</td>\n",
       "      <td>9.300000</td>\n",
       "      <td>92.958920</td>\n",
       "      <td>115.466667</td>\n",
       "      <td>76.806401</td>\n",
       "      <td>0.486667</td>\n",
       "      <td>83.0</td>\n",
       "      <td>57.278541</td>\n",
       "    </tr>\n",
       "    <tr>\n",
       "      <th>2000-04-01</th>\n",
       "      <td>1747142.4</td>\n",
       "      <td>71.0</td>\n",
       "      <td>9.000000</td>\n",
       "      <td>95.125406</td>\n",
       "      <td>117.266667</td>\n",
       "      <td>77.673139</td>\n",
       "      <td>0.486667</td>\n",
       "      <td>83.4</td>\n",
       "      <td>59.839502</td>\n",
       "    </tr>\n",
       "    <tr>\n",
       "      <th>2000-07-01</th>\n",
       "      <td>1765537.4</td>\n",
       "      <td>70.5</td>\n",
       "      <td>8.766667</td>\n",
       "      <td>95.925340</td>\n",
       "      <td>116.200000</td>\n",
       "      <td>78.573214</td>\n",
       "      <td>0.423333</td>\n",
       "      <td>83.7</td>\n",
       "      <td>57.961124</td>\n",
       "    </tr>\n",
       "    <tr>\n",
       "      <th>2000-10-01</th>\n",
       "      <td>1786295.3</td>\n",
       "      <td>69.1</td>\n",
       "      <td>8.500000</td>\n",
       "      <td>96.991917</td>\n",
       "      <td>113.900000</td>\n",
       "      <td>79.973331</td>\n",
       "      <td>0.483333</td>\n",
       "      <td>84.5</td>\n",
       "      <td>54.523772</td>\n",
       "    </tr>\n",
       "    <tr>\n",
       "      <th>2001-01-01</th>\n",
       "      <td>1817636.3</td>\n",
       "      <td>68.8</td>\n",
       "      <td>8.300000</td>\n",
       "      <td>96.958587</td>\n",
       "      <td>110.800000</td>\n",
       "      <td>80.773398</td>\n",
       "      <td>0.216667</td>\n",
       "      <td>84.3</td>\n",
       "      <td>52.149455</td>\n",
       "    </tr>\n",
       "    <tr>\n",
       "      <th>...</th>\n",
       "      <td>...</td>\n",
       "      <td>...</td>\n",
       "      <td>...</td>\n",
       "      <td>...</td>\n",
       "      <td>...</td>\n",
       "      <td>...</td>\n",
       "      <td>...</td>\n",
       "      <td>...</td>\n",
       "      <td>...</td>\n",
       "    </tr>\n",
       "    <tr>\n",
       "      <th>NaT</th>\n",
       "      <td>NaN</td>\n",
       "      <td>NaN</td>\n",
       "      <td>NaN</td>\n",
       "      <td>NaN</td>\n",
       "      <td>NaN</td>\n",
       "      <td>NaN</td>\n",
       "      <td>NaN</td>\n",
       "      <td>NaN</td>\n",
       "      <td>NaN</td>\n",
       "    </tr>\n",
       "    <tr>\n",
       "      <th>NaT</th>\n",
       "      <td>NaN</td>\n",
       "      <td>NaN</td>\n",
       "      <td>NaN</td>\n",
       "      <td>NaN</td>\n",
       "      <td>NaN</td>\n",
       "      <td>NaN</td>\n",
       "      <td>NaN</td>\n",
       "      <td>NaN</td>\n",
       "      <td>NaN</td>\n",
       "    </tr>\n",
       "    <tr>\n",
       "      <th>NaT</th>\n",
       "      <td>NaN</td>\n",
       "      <td>NaN</td>\n",
       "      <td>NaN</td>\n",
       "      <td>NaN</td>\n",
       "      <td>NaN</td>\n",
       "      <td>NaN</td>\n",
       "      <td>NaN</td>\n",
       "      <td>NaN</td>\n",
       "      <td>NaN</td>\n",
       "    </tr>\n",
       "    <tr>\n",
       "      <th>NaT</th>\n",
       "      <td>NaN</td>\n",
       "      <td>NaN</td>\n",
       "      <td>NaN</td>\n",
       "      <td>NaN</td>\n",
       "      <td>NaN</td>\n",
       "      <td>NaN</td>\n",
       "      <td>NaN</td>\n",
       "      <td>NaN</td>\n",
       "      <td>NaN</td>\n",
       "    </tr>\n",
       "    <tr>\n",
       "      <th>NaT</th>\n",
       "      <td>NaN</td>\n",
       "      <td>NaN</td>\n",
       "      <td>NaN</td>\n",
       "      <td>NaN</td>\n",
       "      <td>NaN</td>\n",
       "      <td>NaN</td>\n",
       "      <td>NaN</td>\n",
       "      <td>NaN</td>\n",
       "      <td>NaN</td>\n",
       "    </tr>\n",
       "  </tbody>\n",
       "</table>\n",
       "<p>134 rows × 9 columns</p>\n",
       "</div>"
      ],
      "text/plain": [
       "                  GDP in millions of euros  Euro Area debt in percent of GDP  \\\n",
       "observation_date                                                               \n",
       "2000-01-01                       1725152.8                              71.5   \n",
       "2000-04-01                       1747142.4                              71.0   \n",
       "2000-07-01                       1765537.4                              70.5   \n",
       "2000-10-01                       1786295.3                              69.1   \n",
       "2001-01-01                       1817636.3                              68.8   \n",
       "...                                    ...                               ...   \n",
       "NaT                                    NaN                               NaN   \n",
       "NaT                                    NaN                               NaN   \n",
       "NaT                                    NaN                               NaN   \n",
       "NaT                                    NaN                               NaN   \n",
       "NaT                                    NaN                               NaN   \n",
       "\n",
       "                  unemployment rate  industry index         ESI  \\\n",
       "observation_date                                                  \n",
       "2000-01-01                 9.300000       92.958920  115.466667   \n",
       "2000-04-01                 9.000000       95.125406  117.266667   \n",
       "2000-07-01                 8.766667       95.925340  116.200000   \n",
       "2000-10-01                 8.500000       96.991917  113.900000   \n",
       "2001-01-01                 8.300000       96.958587  110.800000   \n",
       "...                             ...             ...         ...   \n",
       "NaT                             NaN             NaN         NaN   \n",
       "NaT                             NaN             NaN         NaN   \n",
       "NaT                             NaN             NaN         NaN   \n",
       "NaT                             NaN             NaN         NaN   \n",
       "NaT                             NaN             NaN         NaN   \n",
       "\n",
       "                  trade openess index  HICP index change(inflation)  \\\n",
       "observation_date                                                      \n",
       "2000-01-01                  76.806401                      0.486667   \n",
       "2000-04-01                  77.673139                      0.486667   \n",
       "2000-07-01                  78.573214                      0.423333   \n",
       "2000-10-01                  79.973331                      0.483333   \n",
       "2001-01-01                  80.773398                      0.216667   \n",
       "...                               ...                           ...   \n",
       "NaT                               NaN                           NaN   \n",
       "NaT                               NaN                           NaN   \n",
       "NaT                               NaN                           NaN   \n",
       "NaT                               NaN                           NaN   \n",
       "NaT                               NaN                           NaN   \n",
       "\n",
       "                  capacity utilization in percent        PMI  \n",
       "observation_date                                              \n",
       "2000-01-01                                   83.0  57.278541  \n",
       "2000-04-01                                   83.4  59.839502  \n",
       "2000-07-01                                   83.7  57.961124  \n",
       "2000-10-01                                   84.5  54.523772  \n",
       "2001-01-01                                   84.3  52.149455  \n",
       "...                                           ...        ...  \n",
       "NaT                                           NaN        NaN  \n",
       "NaT                                           NaN        NaN  \n",
       "NaT                                           NaN        NaN  \n",
       "NaT                                           NaN        NaN  \n",
       "NaT                                           NaN        NaN  \n",
       "\n",
       "[134 rows x 9 columns]"
      ]
     },
     "execution_count": 2,
     "metadata": {},
     "output_type": "execute_result"
    }
   ],
   "source": [
    "df = pd.read_excel('EUNNGDP.xls',index_col='observation_date',parse_dates=True)\n",
    "df"
   ]
  },
  {
   "cell_type": "code",
   "execution_count": 3,
   "metadata": {},
   "outputs": [],
   "source": [
    "df.dropna(inplace=True)\n"
   ]
  },
  {
   "cell_type": "code",
   "execution_count": 4,
   "metadata": {},
   "outputs": [
    {
     "data": {
      "text/html": [
       "<div>\n",
       "<style scoped>\n",
       "    .dataframe tbody tr th:only-of-type {\n",
       "        vertical-align: middle;\n",
       "    }\n",
       "\n",
       "    .dataframe tbody tr th {\n",
       "        vertical-align: top;\n",
       "    }\n",
       "\n",
       "    .dataframe thead th {\n",
       "        text-align: right;\n",
       "    }\n",
       "</style>\n",
       "<table border=\"1\" class=\"dataframe\">\n",
       "  <thead>\n",
       "    <tr style=\"text-align: right;\">\n",
       "      <th></th>\n",
       "      <th>GDP in millions of euros</th>\n",
       "      <th>Euro Area debt in percent of GDP</th>\n",
       "      <th>unemployment rate</th>\n",
       "      <th>industry index</th>\n",
       "      <th>ESI</th>\n",
       "      <th>trade openess index</th>\n",
       "      <th>HICP index change(inflation)</th>\n",
       "      <th>capacity utilization in percent</th>\n",
       "      <th>PMI</th>\n",
       "    </tr>\n",
       "    <tr>\n",
       "      <th>observation_date</th>\n",
       "      <th></th>\n",
       "      <th></th>\n",
       "      <th></th>\n",
       "      <th></th>\n",
       "      <th></th>\n",
       "      <th></th>\n",
       "      <th></th>\n",
       "      <th></th>\n",
       "      <th></th>\n",
       "    </tr>\n",
       "  </thead>\n",
       "  <tbody>\n",
       "    <tr>\n",
       "      <th>2000-01-01</th>\n",
       "      <td>1725152.8</td>\n",
       "      <td>71.5</td>\n",
       "      <td>9.300000</td>\n",
       "      <td>92.958920</td>\n",
       "      <td>115.466667</td>\n",
       "      <td>76.806401</td>\n",
       "      <td>0.486667</td>\n",
       "      <td>83.0</td>\n",
       "      <td>57.278541</td>\n",
       "    </tr>\n",
       "    <tr>\n",
       "      <th>2000-04-01</th>\n",
       "      <td>1747142.4</td>\n",
       "      <td>71.0</td>\n",
       "      <td>9.000000</td>\n",
       "      <td>95.125406</td>\n",
       "      <td>117.266667</td>\n",
       "      <td>77.673139</td>\n",
       "      <td>0.486667</td>\n",
       "      <td>83.4</td>\n",
       "      <td>59.839502</td>\n",
       "    </tr>\n",
       "    <tr>\n",
       "      <th>2000-07-01</th>\n",
       "      <td>1765537.4</td>\n",
       "      <td>70.5</td>\n",
       "      <td>8.766667</td>\n",
       "      <td>95.925340</td>\n",
       "      <td>116.200000</td>\n",
       "      <td>78.573214</td>\n",
       "      <td>0.423333</td>\n",
       "      <td>83.7</td>\n",
       "      <td>57.961124</td>\n",
       "    </tr>\n",
       "    <tr>\n",
       "      <th>2000-10-01</th>\n",
       "      <td>1786295.3</td>\n",
       "      <td>69.1</td>\n",
       "      <td>8.500000</td>\n",
       "      <td>96.991917</td>\n",
       "      <td>113.900000</td>\n",
       "      <td>79.973331</td>\n",
       "      <td>0.483333</td>\n",
       "      <td>84.5</td>\n",
       "      <td>54.523772</td>\n",
       "    </tr>\n",
       "    <tr>\n",
       "      <th>2001-01-01</th>\n",
       "      <td>1817636.3</td>\n",
       "      <td>68.8</td>\n",
       "      <td>8.300000</td>\n",
       "      <td>96.958587</td>\n",
       "      <td>110.800000</td>\n",
       "      <td>80.773398</td>\n",
       "      <td>0.216667</td>\n",
       "      <td>84.3</td>\n",
       "      <td>52.149455</td>\n",
       "    </tr>\n",
       "    <tr>\n",
       "      <th>...</th>\n",
       "      <td>...</td>\n",
       "      <td>...</td>\n",
       "      <td>...</td>\n",
       "      <td>...</td>\n",
       "      <td>...</td>\n",
       "      <td>...</td>\n",
       "      <td>...</td>\n",
       "      <td>...</td>\n",
       "      <td>...</td>\n",
       "    </tr>\n",
       "    <tr>\n",
       "      <th>2019-10-01</th>\n",
       "      <td>3013108.2</td>\n",
       "      <td>84.0</td>\n",
       "      <td>7.400000</td>\n",
       "      <td>102.491459</td>\n",
       "      <td>101.233333</td>\n",
       "      <td>111.975998</td>\n",
       "      <td>0.236667</td>\n",
       "      <td>81.1</td>\n",
       "      <td>47.800000</td>\n",
       "    </tr>\n",
       "    <tr>\n",
       "      <th>2020-01-01</th>\n",
       "      <td>2912723.3</td>\n",
       "      <td>86.2</td>\n",
       "      <td>7.300000</td>\n",
       "      <td>99.125073</td>\n",
       "      <td>100.833333</td>\n",
       "      <td>109.409117</td>\n",
       "      <td>-0.636667</td>\n",
       "      <td>80.9</td>\n",
       "      <td>39.100000</td>\n",
       "    </tr>\n",
       "    <tr>\n",
       "      <th>2020-04-01</th>\n",
       "      <td>2599279.7</td>\n",
       "      <td>95.0</td>\n",
       "      <td>7.600000</td>\n",
       "      <td>83.459712</td>\n",
       "      <td>72.033333</td>\n",
       "      <td>103.408617</td>\n",
       "      <td>0.796667</td>\n",
       "      <td>68.4</td>\n",
       "      <td>50.300000</td>\n",
       "    </tr>\n",
       "    <tr>\n",
       "      <th>2020-07-01</th>\n",
       "      <td>2899791.4</td>\n",
       "      <td>97.3</td>\n",
       "      <td>8.633333</td>\n",
       "      <td>96.825265</td>\n",
       "      <td>88.533333</td>\n",
       "      <td>114.409534</td>\n",
       "      <td>-0.430000</td>\n",
       "      <td>72.1</td>\n",
       "      <td>54.100000</td>\n",
       "    </tr>\n",
       "    <tr>\n",
       "      <th>2020-10-01</th>\n",
       "      <td>2900048.6</td>\n",
       "      <td>98.1</td>\n",
       "      <td>8.333333</td>\n",
       "      <td>101.024915</td>\n",
       "      <td>91.400000</td>\n",
       "      <td>112.609384</td>\n",
       "      <td>-0.020000</td>\n",
       "      <td>76.3</td>\n",
       "      <td>55.966667</td>\n",
       "    </tr>\n",
       "  </tbody>\n",
       "</table>\n",
       "<p>84 rows × 9 columns</p>\n",
       "</div>"
      ],
      "text/plain": [
       "                  GDP in millions of euros  Euro Area debt in percent of GDP  \\\n",
       "observation_date                                                               \n",
       "2000-01-01                       1725152.8                              71.5   \n",
       "2000-04-01                       1747142.4                              71.0   \n",
       "2000-07-01                       1765537.4                              70.5   \n",
       "2000-10-01                       1786295.3                              69.1   \n",
       "2001-01-01                       1817636.3                              68.8   \n",
       "...                                    ...                               ...   \n",
       "2019-10-01                       3013108.2                              84.0   \n",
       "2020-01-01                       2912723.3                              86.2   \n",
       "2020-04-01                       2599279.7                              95.0   \n",
       "2020-07-01                       2899791.4                              97.3   \n",
       "2020-10-01                       2900048.6                              98.1   \n",
       "\n",
       "                  unemployment rate  industry index         ESI  \\\n",
       "observation_date                                                  \n",
       "2000-01-01                 9.300000       92.958920  115.466667   \n",
       "2000-04-01                 9.000000       95.125406  117.266667   \n",
       "2000-07-01                 8.766667       95.925340  116.200000   \n",
       "2000-10-01                 8.500000       96.991917  113.900000   \n",
       "2001-01-01                 8.300000       96.958587  110.800000   \n",
       "...                             ...             ...         ...   \n",
       "2019-10-01                 7.400000      102.491459  101.233333   \n",
       "2020-01-01                 7.300000       99.125073  100.833333   \n",
       "2020-04-01                 7.600000       83.459712   72.033333   \n",
       "2020-07-01                 8.633333       96.825265   88.533333   \n",
       "2020-10-01                 8.333333      101.024915   91.400000   \n",
       "\n",
       "                  trade openess index  HICP index change(inflation)  \\\n",
       "observation_date                                                      \n",
       "2000-01-01                  76.806401                      0.486667   \n",
       "2000-04-01                  77.673139                      0.486667   \n",
       "2000-07-01                  78.573214                      0.423333   \n",
       "2000-10-01                  79.973331                      0.483333   \n",
       "2001-01-01                  80.773398                      0.216667   \n",
       "...                               ...                           ...   \n",
       "2019-10-01                 111.975998                      0.236667   \n",
       "2020-01-01                 109.409117                     -0.636667   \n",
       "2020-04-01                 103.408617                      0.796667   \n",
       "2020-07-01                 114.409534                     -0.430000   \n",
       "2020-10-01                 112.609384                     -0.020000   \n",
       "\n",
       "                  capacity utilization in percent        PMI  \n",
       "observation_date                                              \n",
       "2000-01-01                                   83.0  57.278541  \n",
       "2000-04-01                                   83.4  59.839502  \n",
       "2000-07-01                                   83.7  57.961124  \n",
       "2000-10-01                                   84.5  54.523772  \n",
       "2001-01-01                                   84.3  52.149455  \n",
       "...                                           ...        ...  \n",
       "2019-10-01                                   81.1  47.800000  \n",
       "2020-01-01                                   80.9  39.100000  \n",
       "2020-04-01                                   68.4  50.300000  \n",
       "2020-07-01                                   72.1  54.100000  \n",
       "2020-10-01                                   76.3  55.966667  \n",
       "\n",
       "[84 rows x 9 columns]"
      ]
     },
     "execution_count": 4,
     "metadata": {},
     "output_type": "execute_result"
    }
   ],
   "source": [
    "df"
   ]
  },
  {
   "cell_type": "code",
   "execution_count": 5,
   "metadata": {},
   "outputs": [
    {
     "data": {
      "text/html": [
       "<div>\n",
       "<style scoped>\n",
       "    .dataframe tbody tr th:only-of-type {\n",
       "        vertical-align: middle;\n",
       "    }\n",
       "\n",
       "    .dataframe tbody tr th {\n",
       "        vertical-align: top;\n",
       "    }\n",
       "\n",
       "    .dataframe thead th {\n",
       "        text-align: right;\n",
       "    }\n",
       "</style>\n",
       "<table border=\"1\" class=\"dataframe\">\n",
       "  <thead>\n",
       "    <tr style=\"text-align: right;\">\n",
       "      <th></th>\n",
       "      <th>GDP in millions of euros</th>\n",
       "      <th>Euro Area debt in percent of GDP</th>\n",
       "      <th>unemployment rate</th>\n",
       "      <th>industry index</th>\n",
       "      <th>ESI</th>\n",
       "      <th>trade openess index</th>\n",
       "      <th>HICP index change(inflation)</th>\n",
       "      <th>capacity utilization in percent</th>\n",
       "      <th>PMI</th>\n",
       "    </tr>\n",
       "    <tr>\n",
       "      <th>observation_date</th>\n",
       "      <th></th>\n",
       "      <th></th>\n",
       "      <th></th>\n",
       "      <th></th>\n",
       "      <th></th>\n",
       "      <th></th>\n",
       "      <th></th>\n",
       "      <th></th>\n",
       "      <th></th>\n",
       "    </tr>\n",
       "  </thead>\n",
       "  <tbody>\n",
       "    <tr>\n",
       "      <th>2000-01-01</th>\n",
       "      <td>1725152.8</td>\n",
       "      <td>0.715</td>\n",
       "      <td>0.093000</td>\n",
       "      <td>92.958920</td>\n",
       "      <td>115.466667</td>\n",
       "      <td>76.806401</td>\n",
       "      <td>0.486667</td>\n",
       "      <td>0.830</td>\n",
       "      <td>57.278541</td>\n",
       "    </tr>\n",
       "    <tr>\n",
       "      <th>2000-04-01</th>\n",
       "      <td>1747142.4</td>\n",
       "      <td>0.710</td>\n",
       "      <td>0.090000</td>\n",
       "      <td>95.125406</td>\n",
       "      <td>117.266667</td>\n",
       "      <td>77.673139</td>\n",
       "      <td>0.486667</td>\n",
       "      <td>0.834</td>\n",
       "      <td>59.839502</td>\n",
       "    </tr>\n",
       "    <tr>\n",
       "      <th>2000-07-01</th>\n",
       "      <td>1765537.4</td>\n",
       "      <td>0.705</td>\n",
       "      <td>0.087667</td>\n",
       "      <td>95.925340</td>\n",
       "      <td>116.200000</td>\n",
       "      <td>78.573214</td>\n",
       "      <td>0.423333</td>\n",
       "      <td>0.837</td>\n",
       "      <td>57.961124</td>\n",
       "    </tr>\n",
       "    <tr>\n",
       "      <th>2000-10-01</th>\n",
       "      <td>1786295.3</td>\n",
       "      <td>0.691</td>\n",
       "      <td>0.085000</td>\n",
       "      <td>96.991917</td>\n",
       "      <td>113.900000</td>\n",
       "      <td>79.973331</td>\n",
       "      <td>0.483333</td>\n",
       "      <td>0.845</td>\n",
       "      <td>54.523772</td>\n",
       "    </tr>\n",
       "    <tr>\n",
       "      <th>2001-01-01</th>\n",
       "      <td>1817636.3</td>\n",
       "      <td>0.688</td>\n",
       "      <td>0.083000</td>\n",
       "      <td>96.958587</td>\n",
       "      <td>110.800000</td>\n",
       "      <td>80.773398</td>\n",
       "      <td>0.216667</td>\n",
       "      <td>0.843</td>\n",
       "      <td>52.149455</td>\n",
       "    </tr>\n",
       "    <tr>\n",
       "      <th>...</th>\n",
       "      <td>...</td>\n",
       "      <td>...</td>\n",
       "      <td>...</td>\n",
       "      <td>...</td>\n",
       "      <td>...</td>\n",
       "      <td>...</td>\n",
       "      <td>...</td>\n",
       "      <td>...</td>\n",
       "      <td>...</td>\n",
       "    </tr>\n",
       "    <tr>\n",
       "      <th>2019-10-01</th>\n",
       "      <td>3013108.2</td>\n",
       "      <td>0.840</td>\n",
       "      <td>0.074000</td>\n",
       "      <td>102.491459</td>\n",
       "      <td>101.233333</td>\n",
       "      <td>111.975998</td>\n",
       "      <td>0.236667</td>\n",
       "      <td>0.811</td>\n",
       "      <td>47.800000</td>\n",
       "    </tr>\n",
       "    <tr>\n",
       "      <th>2020-01-01</th>\n",
       "      <td>2912723.3</td>\n",
       "      <td>0.862</td>\n",
       "      <td>0.073000</td>\n",
       "      <td>99.125073</td>\n",
       "      <td>100.833333</td>\n",
       "      <td>109.409117</td>\n",
       "      <td>-0.636667</td>\n",
       "      <td>0.809</td>\n",
       "      <td>39.100000</td>\n",
       "    </tr>\n",
       "    <tr>\n",
       "      <th>2020-04-01</th>\n",
       "      <td>2599279.7</td>\n",
       "      <td>0.950</td>\n",
       "      <td>0.076000</td>\n",
       "      <td>83.459712</td>\n",
       "      <td>72.033333</td>\n",
       "      <td>103.408617</td>\n",
       "      <td>0.796667</td>\n",
       "      <td>0.684</td>\n",
       "      <td>50.300000</td>\n",
       "    </tr>\n",
       "    <tr>\n",
       "      <th>2020-07-01</th>\n",
       "      <td>2899791.4</td>\n",
       "      <td>0.973</td>\n",
       "      <td>0.086333</td>\n",
       "      <td>96.825265</td>\n",
       "      <td>88.533333</td>\n",
       "      <td>114.409534</td>\n",
       "      <td>-0.430000</td>\n",
       "      <td>0.721</td>\n",
       "      <td>54.100000</td>\n",
       "    </tr>\n",
       "    <tr>\n",
       "      <th>2020-10-01</th>\n",
       "      <td>2900048.6</td>\n",
       "      <td>0.981</td>\n",
       "      <td>0.083333</td>\n",
       "      <td>101.024915</td>\n",
       "      <td>91.400000</td>\n",
       "      <td>112.609384</td>\n",
       "      <td>-0.020000</td>\n",
       "      <td>0.763</td>\n",
       "      <td>55.966667</td>\n",
       "    </tr>\n",
       "  </tbody>\n",
       "</table>\n",
       "<p>84 rows × 9 columns</p>\n",
       "</div>"
      ],
      "text/plain": [
       "                  GDP in millions of euros  Euro Area debt in percent of GDP  \\\n",
       "observation_date                                                               \n",
       "2000-01-01                       1725152.8                             0.715   \n",
       "2000-04-01                       1747142.4                             0.710   \n",
       "2000-07-01                       1765537.4                             0.705   \n",
       "2000-10-01                       1786295.3                             0.691   \n",
       "2001-01-01                       1817636.3                             0.688   \n",
       "...                                    ...                               ...   \n",
       "2019-10-01                       3013108.2                             0.840   \n",
       "2020-01-01                       2912723.3                             0.862   \n",
       "2020-04-01                       2599279.7                             0.950   \n",
       "2020-07-01                       2899791.4                             0.973   \n",
       "2020-10-01                       2900048.6                             0.981   \n",
       "\n",
       "                  unemployment rate  industry index         ESI  \\\n",
       "observation_date                                                  \n",
       "2000-01-01                 0.093000       92.958920  115.466667   \n",
       "2000-04-01                 0.090000       95.125406  117.266667   \n",
       "2000-07-01                 0.087667       95.925340  116.200000   \n",
       "2000-10-01                 0.085000       96.991917  113.900000   \n",
       "2001-01-01                 0.083000       96.958587  110.800000   \n",
       "...                             ...             ...         ...   \n",
       "2019-10-01                 0.074000      102.491459  101.233333   \n",
       "2020-01-01                 0.073000       99.125073  100.833333   \n",
       "2020-04-01                 0.076000       83.459712   72.033333   \n",
       "2020-07-01                 0.086333       96.825265   88.533333   \n",
       "2020-10-01                 0.083333      101.024915   91.400000   \n",
       "\n",
       "                  trade openess index  HICP index change(inflation)  \\\n",
       "observation_date                                                      \n",
       "2000-01-01                  76.806401                      0.486667   \n",
       "2000-04-01                  77.673139                      0.486667   \n",
       "2000-07-01                  78.573214                      0.423333   \n",
       "2000-10-01                  79.973331                      0.483333   \n",
       "2001-01-01                  80.773398                      0.216667   \n",
       "...                               ...                           ...   \n",
       "2019-10-01                 111.975998                      0.236667   \n",
       "2020-01-01                 109.409117                     -0.636667   \n",
       "2020-04-01                 103.408617                      0.796667   \n",
       "2020-07-01                 114.409534                     -0.430000   \n",
       "2020-10-01                 112.609384                     -0.020000   \n",
       "\n",
       "                  capacity utilization in percent        PMI  \n",
       "observation_date                                              \n",
       "2000-01-01                                  0.830  57.278541  \n",
       "2000-04-01                                  0.834  59.839502  \n",
       "2000-07-01                                  0.837  57.961124  \n",
       "2000-10-01                                  0.845  54.523772  \n",
       "2001-01-01                                  0.843  52.149455  \n",
       "...                                           ...        ...  \n",
       "2019-10-01                                  0.811  47.800000  \n",
       "2020-01-01                                  0.809  39.100000  \n",
       "2020-04-01                                  0.684  50.300000  \n",
       "2020-07-01                                  0.721  54.100000  \n",
       "2020-10-01                                  0.763  55.966667  \n",
       "\n",
       "[84 rows x 9 columns]"
      ]
     },
     "execution_count": 5,
     "metadata": {},
     "output_type": "execute_result"
    }
   ],
   "source": [
    "df['Euro Area debt in percent of GDP'] = df['Euro Area debt in percent of GDP']/100\n",
    "df['unemployment rate'] = df['unemployment rate']/100\n",
    "df['capacity utilization in percent'] = df['capacity utilization in percent']/100\n",
    "df\n"
   ]
  },
  {
   "cell_type": "code",
   "execution_count": 12,
   "metadata": {},
   "outputs": [
    {
     "name": "stderr",
     "output_type": "stream",
     "text": [
      "<ipython-input-12-793d81104a3d>:1: RuntimeWarning: invalid value encountered in log\n",
      "  df1 = np.log(df)\n"
     ]
    },
    {
     "data": {
      "text/html": [
       "<div>\n",
       "<style scoped>\n",
       "    .dataframe tbody tr th:only-of-type {\n",
       "        vertical-align: middle;\n",
       "    }\n",
       "\n",
       "    .dataframe tbody tr th {\n",
       "        vertical-align: top;\n",
       "    }\n",
       "\n",
       "    .dataframe thead th {\n",
       "        text-align: right;\n",
       "    }\n",
       "</style>\n",
       "<table border=\"1\" class=\"dataframe\">\n",
       "  <thead>\n",
       "    <tr style=\"text-align: right;\">\n",
       "      <th></th>\n",
       "      <th>GDP in millions of euros</th>\n",
       "      <th>Euro Area debt in percent of GDP</th>\n",
       "      <th>unemployment rate</th>\n",
       "      <th>industry index</th>\n",
       "      <th>ESI</th>\n",
       "      <th>trade openess index</th>\n",
       "      <th>HICP index change(inflation)</th>\n",
       "      <th>capacity utilization in percent</th>\n",
       "      <th>PMI</th>\n",
       "    </tr>\n",
       "    <tr>\n",
       "      <th>observation_date</th>\n",
       "      <th></th>\n",
       "      <th></th>\n",
       "      <th></th>\n",
       "      <th></th>\n",
       "      <th></th>\n",
       "      <th></th>\n",
       "      <th></th>\n",
       "      <th></th>\n",
       "      <th></th>\n",
       "    </tr>\n",
       "  </thead>\n",
       "  <tbody>\n",
       "    <tr>\n",
       "      <th>2000-01-01</th>\n",
       "      <td>14.360826</td>\n",
       "      <td>-0.335473</td>\n",
       "      <td>-2.375156</td>\n",
       "      <td>4.532158</td>\n",
       "      <td>4.748982</td>\n",
       "      <td>4.341288</td>\n",
       "      <td>-0.720176</td>\n",
       "      <td>-0.186330</td>\n",
       "      <td>4.047926</td>\n",
       "    </tr>\n",
       "    <tr>\n",
       "      <th>2000-04-01</th>\n",
       "      <td>14.373492</td>\n",
       "      <td>-0.342490</td>\n",
       "      <td>-2.407946</td>\n",
       "      <td>4.555196</td>\n",
       "      <td>4.764451</td>\n",
       "      <td>4.352510</td>\n",
       "      <td>-0.720176</td>\n",
       "      <td>-0.181522</td>\n",
       "      <td>4.091666</td>\n",
       "    </tr>\n",
       "    <tr>\n",
       "      <th>2000-07-01</th>\n",
       "      <td>14.383966</td>\n",
       "      <td>-0.349557</td>\n",
       "      <td>-2.434214</td>\n",
       "      <td>4.563570</td>\n",
       "      <td>4.755313</td>\n",
       "      <td>4.364031</td>\n",
       "      <td>-0.859595</td>\n",
       "      <td>-0.177931</td>\n",
       "      <td>4.059773</td>\n",
       "    </tr>\n",
       "    <tr>\n",
       "      <th>2000-10-01</th>\n",
       "      <td>14.395654</td>\n",
       "      <td>-0.369615</td>\n",
       "      <td>-2.465104</td>\n",
       "      <td>4.574628</td>\n",
       "      <td>4.735321</td>\n",
       "      <td>4.381693</td>\n",
       "      <td>-0.727049</td>\n",
       "      <td>-0.168419</td>\n",
       "      <td>3.998637</td>\n",
       "    </tr>\n",
       "    <tr>\n",
       "      <th>2001-01-01</th>\n",
       "      <td>14.413047</td>\n",
       "      <td>-0.373966</td>\n",
       "      <td>-2.488915</td>\n",
       "      <td>4.574284</td>\n",
       "      <td>4.707727</td>\n",
       "      <td>4.391648</td>\n",
       "      <td>-1.529395</td>\n",
       "      <td>-0.170788</td>\n",
       "      <td>3.954114</td>\n",
       "    </tr>\n",
       "    <tr>\n",
       "      <th>...</th>\n",
       "      <td>...</td>\n",
       "      <td>...</td>\n",
       "      <td>...</td>\n",
       "      <td>...</td>\n",
       "      <td>...</td>\n",
       "      <td>...</td>\n",
       "      <td>...</td>\n",
       "      <td>...</td>\n",
       "      <td>...</td>\n",
       "    </tr>\n",
       "    <tr>\n",
       "      <th>2019-10-01</th>\n",
       "      <td>14.918483</td>\n",
       "      <td>-0.174353</td>\n",
       "      <td>-2.603690</td>\n",
       "      <td>4.629779</td>\n",
       "      <td>4.617428</td>\n",
       "      <td>4.718285</td>\n",
       "      <td>-1.441103</td>\n",
       "      <td>-0.209487</td>\n",
       "      <td>3.867026</td>\n",
       "    </tr>\n",
       "    <tr>\n",
       "      <th>2020-01-01</th>\n",
       "      <td>14.884599</td>\n",
       "      <td>-0.148500</td>\n",
       "      <td>-2.617296</td>\n",
       "      <td>4.596382</td>\n",
       "      <td>4.613469</td>\n",
       "      <td>4.695094</td>\n",
       "      <td>0.000000</td>\n",
       "      <td>-0.211956</td>\n",
       "      <td>3.666122</td>\n",
       "    </tr>\n",
       "    <tr>\n",
       "      <th>2020-04-01</th>\n",
       "      <td>14.770745</td>\n",
       "      <td>-0.051293</td>\n",
       "      <td>-2.577022</td>\n",
       "      <td>4.424364</td>\n",
       "      <td>4.277129</td>\n",
       "      <td>4.638688</td>\n",
       "      <td>-0.227319</td>\n",
       "      <td>-0.379797</td>\n",
       "      <td>3.918005</td>\n",
       "    </tr>\n",
       "    <tr>\n",
       "      <th>2020-07-01</th>\n",
       "      <td>14.880149</td>\n",
       "      <td>-0.027371</td>\n",
       "      <td>-2.449540</td>\n",
       "      <td>4.572908</td>\n",
       "      <td>4.483379</td>\n",
       "      <td>4.739784</td>\n",
       "      <td>0.000000</td>\n",
       "      <td>-0.327116</td>\n",
       "      <td>3.990834</td>\n",
       "    </tr>\n",
       "    <tr>\n",
       "      <th>2020-10-01</th>\n",
       "      <td>14.880238</td>\n",
       "      <td>-0.019183</td>\n",
       "      <td>-2.484907</td>\n",
       "      <td>4.615367</td>\n",
       "      <td>4.515245</td>\n",
       "      <td>4.723925</td>\n",
       "      <td>0.000000</td>\n",
       "      <td>-0.270497</td>\n",
       "      <td>4.024756</td>\n",
       "    </tr>\n",
       "  </tbody>\n",
       "</table>\n",
       "<p>84 rows × 9 columns</p>\n",
       "</div>"
      ],
      "text/plain": [
       "                  GDP in millions of euros  Euro Area debt in percent of GDP  \\\n",
       "observation_date                                                               \n",
       "2000-01-01                       14.360826                         -0.335473   \n",
       "2000-04-01                       14.373492                         -0.342490   \n",
       "2000-07-01                       14.383966                         -0.349557   \n",
       "2000-10-01                       14.395654                         -0.369615   \n",
       "2001-01-01                       14.413047                         -0.373966   \n",
       "...                                    ...                               ...   \n",
       "2019-10-01                       14.918483                         -0.174353   \n",
       "2020-01-01                       14.884599                         -0.148500   \n",
       "2020-04-01                       14.770745                         -0.051293   \n",
       "2020-07-01                       14.880149                         -0.027371   \n",
       "2020-10-01                       14.880238                         -0.019183   \n",
       "\n",
       "                  unemployment rate  industry index       ESI  \\\n",
       "observation_date                                                \n",
       "2000-01-01                -2.375156        4.532158  4.748982   \n",
       "2000-04-01                -2.407946        4.555196  4.764451   \n",
       "2000-07-01                -2.434214        4.563570  4.755313   \n",
       "2000-10-01                -2.465104        4.574628  4.735321   \n",
       "2001-01-01                -2.488915        4.574284  4.707727   \n",
       "...                             ...             ...       ...   \n",
       "2019-10-01                -2.603690        4.629779  4.617428   \n",
       "2020-01-01                -2.617296        4.596382  4.613469   \n",
       "2020-04-01                -2.577022        4.424364  4.277129   \n",
       "2020-07-01                -2.449540        4.572908  4.483379   \n",
       "2020-10-01                -2.484907        4.615367  4.515245   \n",
       "\n",
       "                  trade openess index  HICP index change(inflation)  \\\n",
       "observation_date                                                      \n",
       "2000-01-01                   4.341288                     -0.720176   \n",
       "2000-04-01                   4.352510                     -0.720176   \n",
       "2000-07-01                   4.364031                     -0.859595   \n",
       "2000-10-01                   4.381693                     -0.727049   \n",
       "2001-01-01                   4.391648                     -1.529395   \n",
       "...                               ...                           ...   \n",
       "2019-10-01                   4.718285                     -1.441103   \n",
       "2020-01-01                   4.695094                      0.000000   \n",
       "2020-04-01                   4.638688                     -0.227319   \n",
       "2020-07-01                   4.739784                      0.000000   \n",
       "2020-10-01                   4.723925                      0.000000   \n",
       "\n",
       "                  capacity utilization in percent       PMI  \n",
       "observation_date                                             \n",
       "2000-01-01                              -0.186330  4.047926  \n",
       "2000-04-01                              -0.181522  4.091666  \n",
       "2000-07-01                              -0.177931  4.059773  \n",
       "2000-10-01                              -0.168419  3.998637  \n",
       "2001-01-01                              -0.170788  3.954114  \n",
       "...                                           ...       ...  \n",
       "2019-10-01                              -0.209487  3.867026  \n",
       "2020-01-01                              -0.211956  3.666122  \n",
       "2020-04-01                              -0.379797  3.918005  \n",
       "2020-07-01                              -0.327116  3.990834  \n",
       "2020-10-01                              -0.270497  4.024756  \n",
       "\n",
       "[84 rows x 9 columns]"
      ]
     },
     "execution_count": 12,
     "metadata": {},
     "output_type": "execute_result"
    }
   ],
   "source": [
    "df1 = np.log(df)\n",
    "df2 = df1.fillna(0)\n",
    "df2"
   ]
  },
  {
   "cell_type": "code",
   "execution_count": 13,
   "metadata": {},
   "outputs": [],
   "source": [
    "from statsmodels.tsa.stattools import adfuller"
   ]
  },
  {
   "cell_type": "code",
   "execution_count": 16,
   "metadata": {},
   "outputs": [
    {
     "data": {
      "text/plain": [
       "(3.37899039304257,\n",
       " 0.9999808537770717,\n",
       " {'1%': -2.593545264723379,\n",
       "  '5%': -1.9447194276780662,\n",
       "  '10%': -1.6139386024578866},\n",
       " <statsmodels.tsa.stattools.ResultsStore at 0x2d0ec5aa5e0>)"
      ]
     },
     "execution_count": 16,
     "metadata": {},
     "output_type": "execute_result"
    }
   ],
   "source": [
    "Unit_test = adfuller(df2['GDP in millions of euros'],regression=\"nc\",autolag=\"AIC\",store = True,regresults=True)\n",
    "Unit_test"
   ]
  },
  {
   "cell_type": "code",
   "execution_count": null,
   "metadata": {},
   "outputs": [],
   "source": []
  },
  {
   "cell_type": "code",
   "execution_count": 17,
   "metadata": {},
   "outputs": [
    {
     "name": "stdout",
     "output_type": "stream",
     "text": [
      "GDP in millions of euros (3.37899039304257, 0.9999808537770717, {'1%': -2.593545264723379, '5%': -1.9447194276780662, '10%': -1.6139386024578866}, <statsmodels.tsa.stattools.ResultsStore object at 0x000002D0EC5BC7C0>) \n",
      "\n",
      "Euro Area debt in percent of GDP (-1.4056679251834538, 0.14886194292151866, {'1%': -2.5950002564102563, '5%': -1.944930885129554, '10%': -1.6138075115898785}, <statsmodels.tsa.stattools.ResultsStore object at 0x000002D0EC5D63A0>) \n",
      "\n",
      "unemployment rate (0.050510824660949374, 0.7008275443732594, {'1%': -2.593545264723379, '5%': -1.9447194276780662, '10%': -1.6139386024578866}, <statsmodels.tsa.stattools.ResultsStore object at 0x000002D0E8971BB0>) \n",
      "\n",
      "industry index (0.2647199862088829, 0.7651824230605897, {'1%': -2.5932038409057916, '5%': -1.9446699984434763, '10%': -1.6139696022120125}, <statsmodels.tsa.stattools.ResultsStore object at 0x000002D0EC5D6B80>) \n",
      "\n",
      "ESI (-0.494558052980171, 0.49835950431260634, {'1%': -2.5932038409057916, '5%': -1.9446699984434763, '10%': -1.6139696022120125}, <statsmodels.tsa.stattools.ResultsStore object at 0x000002D0EC587520>) \n",
      "\n",
      "trade openess index (3.4193188274373405, 0.9999855720694169, {'1%': -2.593545264723379, '5%': -1.9447194276780662, '10%': -1.6139386024578866}, <statsmodels.tsa.stattools.ResultsStore object at 0x000002D0EC5D6310>) \n",
      "\n",
      "HICP index change(inflation) (-1.628357772346862, 0.09765726651351736, {'1%': -2.5942542187499997, '5%': -1.944822298828125, '10%': -1.6138745234374998}, <statsmodels.tsa.stattools.ResultsStore object at 0x000002D0EC5BCA00>) \n",
      "\n",
      "capacity utilization in percent (-0.14905653763719162, 0.6325379198165906, {'1%': -2.5932038409057916, '5%': -1.9446699984434763, '10%': -1.6139696022120125}, <statsmodels.tsa.stattools.ResultsStore object at 0x000002D0EC5D6940>) \n",
      "\n",
      "PMI (-0.12311380018835402, 0.6418454107209449, {'1%': -2.5966158582907233, '5%': -1.9451671781533177, '10%': -1.613663835508262}, <statsmodels.tsa.stattools.ResultsStore object at 0x000002D0EC5E4670>) \n",
      "\n"
     ]
    }
   ],
   "source": [
    "for i in df2.columns :\n",
    "    Unit_test = adfuller(df2[i],regression=\"nc\",autolag=\"AIC\",store = True,regresults=True)\n",
    "    print(i,Unit_test,'\\n')\n",
    "    "
   ]
  },
  {
   "cell_type": "markdown",
   "metadata": {},
   "source": [
    "Όλες οι Χρονοσειρές μη-στάσιμες\n",
    "Πάμε για πρώτες διαφορές"
   ]
  },
  {
   "cell_type": "code",
   "execution_count": 22,
   "metadata": {},
   "outputs": [
    {
     "data": {
      "text/plain": [
       "Index(['GDP in millions of euros', 'Euro Area debt in percent of GDP',\n",
       "       'unemployment rate', 'industry index', 'ESI', 'trade openess index',\n",
       "       'HICP index change(inflation)', 'capacity utilization in percent',\n",
       "       'PMI'],\n",
       "      dtype='object')"
      ]
     },
     "execution_count": 22,
     "metadata": {},
     "output_type": "execute_result"
    }
   ],
   "source": [
    "\n",
    "df3 = df2.diff()\n",
    "df3.dropna(inplace=True)\n",
    "df3\n",
    "df3.columns"
   ]
  },
  {
   "cell_type": "code",
   "execution_count": 20,
   "metadata": {},
   "outputs": [
    {
     "name": "stdout",
     "output_type": "stream",
     "text": [
      "GDP in millions of euros (-2.4142831864204175, 0.01520961636007011, {'1%': -2.5942542187499997, '5%': -1.944822298828125, '10%': -1.6138745234374998}, <statsmodels.tsa.stattools.ResultsStore object at 0x000002D0EC77A7C0>) \n",
      "\n",
      "Euro Area debt in percent of GDP (-2.119200916728776, 0.032678600737486484, {'1%': -2.5950002564102563, '5%': -1.944930885129554, '10%': -1.6138075115898785}, <statsmodels.tsa.stattools.ResultsStore object at 0x000002D0EC77A130>) \n",
      "\n",
      "unemployment rate (-4.462884305994424, 1.1050973513839265e-05, {'1%': -2.593545264723379, '5%': -1.9447194276780662, '10%': -1.6139386024578866}, <statsmodels.tsa.stattools.ResultsStore object at 0x000002D0E8971BB0>) \n",
      "\n",
      "industry index (-8.961712487800423, 2.1038789836923127e-15, {'1%': -2.593545264723379, '5%': -1.9447194276780662, '10%': -1.6139386024578866}, <statsmodels.tsa.stattools.ResultsStore object at 0x000002D0EC5D6B50>) \n",
      "\n",
      "ESI (-8.376252856461466, 4.536052743462394e-14, {'1%': -2.593545264723379, '5%': -1.9447194276780662, '10%': -1.6139386024578866}, <statsmodels.tsa.stattools.ResultsStore object at 0x000002D0E8971BB0>) \n",
      "\n",
      "trade openess index (-10.306415970149802, 2.1401149244770584e-18, {'1%': -2.593545264723379, '5%': -1.9447194276780662, '10%': -1.6139386024578866}, <statsmodels.tsa.stattools.ResultsStore object at 0x000002D0EC53F610>) \n",
      "\n",
      "HICP index change(inflation) (-5.802464380332376, 2.4652907417126744e-08, {'1%': -2.595786364265928, '5%': -1.945045666733489, '10%': -1.613737358579968}, <statsmodels.tsa.stattools.ResultsStore object at 0x000002D0E8971BB0>) \n",
      "\n",
      "capacity utilization in percent (-7.588779837091847, 2.8378577246210488e-12, {'1%': -2.593545264723379, '5%': -1.9447194276780662, '10%': -1.6139386024578866}, <statsmodels.tsa.stattools.ResultsStore object at 0x000002D0EC14FA30>) \n",
      "\n",
      "PMI (-7.367582009796663, 9.007430827478886e-12, {'1%': -2.593545264723379, '5%': -1.9447194276780662, '10%': -1.6139386024578866}, <statsmodels.tsa.stattools.ResultsStore object at 0x000002D0EC77A880>) \n",
      "\n"
     ]
    }
   ],
   "source": [
    "for i in df3.columns :\n",
    "    Unit_test = adfuller(df3[i],regression=\"nc\",autolag=\"AIC\",store = True,regresults=True)\n",
    "    print(i,Unit_test,'\\n')"
   ]
  },
  {
   "cell_type": "markdown",
   "metadata": {},
   "source": [
    "Με τον έλεγχο ADF των πρώτων διαφορών έχω ότι Υτ,Χτ ~ Ι(1) άρα μπορώ Θα κάνω OLS για αρχή.\n"
   ]
  },
  {
   "cell_type": "code",
   "execution_count": 21,
   "metadata": {},
   "outputs": [],
   "source": [
    "import statsmodels.api as sm"
   ]
  },
  {
   "cell_type": "code",
   "execution_count": 23,
   "metadata": {},
   "outputs": [
    {
     "data": {
      "text/html": [
       "<table class=\"simpletable\">\n",
       "<caption>OLS Regression Results</caption>\n",
       "<tr>\n",
       "  <th>Dep. Variable:</th>    <td>GDP in millions of euros</td> <th>  R-squared:         </th> <td>   0.936</td>\n",
       "</tr>\n",
       "<tr>\n",
       "  <th>Model:</th>                       <td>OLS</td>           <th>  Adj. R-squared:    </th> <td>   0.930</td>\n",
       "</tr>\n",
       "<tr>\n",
       "  <th>Method:</th>                 <td>Least Squares</td>      <th>  F-statistic:       </th> <td>   136.4</td>\n",
       "</tr>\n",
       "<tr>\n",
       "  <th>Date:</th>                 <td>Thu, 27 May 2021</td>     <th>  Prob (F-statistic):</th> <td>4.18e-41</td>\n",
       "</tr>\n",
       "<tr>\n",
       "  <th>Time:</th>                     <td>13:22:52</td>         <th>  Log-Likelihood:    </th> <td>  325.73</td>\n",
       "</tr>\n",
       "<tr>\n",
       "  <th>No. Observations:</th>          <td>    83</td>          <th>  AIC:               </th> <td>  -633.5</td>\n",
       "</tr>\n",
       "<tr>\n",
       "  <th>Df Residuals:</th>              <td>    74</td>          <th>  BIC:               </th> <td>  -611.7</td>\n",
       "</tr>\n",
       "<tr>\n",
       "  <th>Df Model:</th>                  <td>     8</td>          <th>                     </th>     <td> </td>   \n",
       "</tr>\n",
       "<tr>\n",
       "  <th>Covariance Type:</th>          <td>nonrobust</td>        <th>                     </th>     <td> </td>   \n",
       "</tr>\n",
       "</table>\n",
       "<table class=\"simpletable\">\n",
       "<tr>\n",
       "                  <td></td>                    <th>coef</th>     <th>std err</th>      <th>t</th>      <th>P>|t|</th>  <th>[0.025</th>    <th>0.975]</th>  \n",
       "</tr>\n",
       "<tr>\n",
       "  <th>const</th>                            <td>    0.0044</td> <td>    0.001</td> <td>    6.021</td> <td> 0.000</td> <td>    0.003</td> <td>    0.006</td>\n",
       "</tr>\n",
       "<tr>\n",
       "  <th>Euro Area debt in percent of GDP</th> <td>   -0.1955</td> <td>    0.051</td> <td>   -3.822</td> <td> 0.000</td> <td>   -0.297</td> <td>   -0.094</td>\n",
       "</tr>\n",
       "<tr>\n",
       "  <th>unemployment rate</th>                <td>    0.1031</td> <td>    0.029</td> <td>    3.593</td> <td> 0.001</td> <td>    0.046</td> <td>    0.160</td>\n",
       "</tr>\n",
       "<tr>\n",
       "  <th>industry index</th>                   <td>    0.2436</td> <td>    0.069</td> <td>    3.534</td> <td> 0.001</td> <td>    0.106</td> <td>    0.381</td>\n",
       "</tr>\n",
       "<tr>\n",
       "  <th>ESI</th>                              <td>    0.0182</td> <td>    0.022</td> <td>    0.840</td> <td> 0.403</td> <td>   -0.025</td> <td>    0.061</td>\n",
       "</tr>\n",
       "<tr>\n",
       "  <th>trade openess index</th>              <td>    0.5557</td> <td>    0.089</td> <td>    6.275</td> <td> 0.000</td> <td>    0.379</td> <td>    0.732</td>\n",
       "</tr>\n",
       "<tr>\n",
       "  <th>HICP index change(inflation)</th>     <td> 4.065e-05</td> <td>    0.000</td> <td>    0.107</td> <td> 0.915</td> <td>   -0.001</td> <td>    0.001</td>\n",
       "</tr>\n",
       "<tr>\n",
       "  <th>capacity utilization in percent</th>  <td>    0.0393</td> <td>    0.063</td> <td>    0.623</td> <td> 0.535</td> <td>   -0.086</td> <td>    0.165</td>\n",
       "</tr>\n",
       "<tr>\n",
       "  <th>PMI</th>                              <td>   -0.0177</td> <td>    0.013</td> <td>   -1.376</td> <td> 0.173</td> <td>   -0.043</td> <td>    0.008</td>\n",
       "</tr>\n",
       "</table>\n",
       "<table class=\"simpletable\">\n",
       "<tr>\n",
       "  <th>Omnibus:</th>       <td> 2.799</td> <th>  Durbin-Watson:     </th> <td>   1.503</td>\n",
       "</tr>\n",
       "<tr>\n",
       "  <th>Prob(Omnibus):</th> <td> 0.247</td> <th>  Jarque-Bera (JB):  </th> <td>   2.489</td>\n",
       "</tr>\n",
       "<tr>\n",
       "  <th>Skew:</th>          <td>-0.106</td> <th>  Prob(JB):          </th> <td>   0.288</td>\n",
       "</tr>\n",
       "<tr>\n",
       "  <th>Kurtosis:</th>      <td> 3.821</td> <th>  Cond. No.          </th> <td>    301.</td>\n",
       "</tr>\n",
       "</table><br/><br/>Warnings:<br/>[1] Standard Errors assume that the covariance matrix of the errors is correctly specified."
      ],
      "text/plain": [
       "<class 'statsmodels.iolib.summary.Summary'>\n",
       "\"\"\"\n",
       "                               OLS Regression Results                               \n",
       "====================================================================================\n",
       "Dep. Variable:     GDP in millions of euros   R-squared:                       0.936\n",
       "Model:                                  OLS   Adj. R-squared:                  0.930\n",
       "Method:                       Least Squares   F-statistic:                     136.4\n",
       "Date:                      Thu, 27 May 2021   Prob (F-statistic):           4.18e-41\n",
       "Time:                              13:22:52   Log-Likelihood:                 325.73\n",
       "No. Observations:                        83   AIC:                            -633.5\n",
       "Df Residuals:                            74   BIC:                            -611.7\n",
       "Df Model:                                 8                                         \n",
       "Covariance Type:                  nonrobust                                         \n",
       "====================================================================================================\n",
       "                                       coef    std err          t      P>|t|      [0.025      0.975]\n",
       "----------------------------------------------------------------------------------------------------\n",
       "const                                0.0044      0.001      6.021      0.000       0.003       0.006\n",
       "Euro Area debt in percent of GDP    -0.1955      0.051     -3.822      0.000      -0.297      -0.094\n",
       "unemployment rate                    0.1031      0.029      3.593      0.001       0.046       0.160\n",
       "industry index                       0.2436      0.069      3.534      0.001       0.106       0.381\n",
       "ESI                                  0.0182      0.022      0.840      0.403      -0.025       0.061\n",
       "trade openess index                  0.5557      0.089      6.275      0.000       0.379       0.732\n",
       "HICP index change(inflation)      4.065e-05      0.000      0.107      0.915      -0.001       0.001\n",
       "capacity utilization in percent      0.0393      0.063      0.623      0.535      -0.086       0.165\n",
       "PMI                                 -0.0177      0.013     -1.376      0.173      -0.043       0.008\n",
       "==============================================================================\n",
       "Omnibus:                        2.799   Durbin-Watson:                   1.503\n",
       "Prob(Omnibus):                  0.247   Jarque-Bera (JB):                2.489\n",
       "Skew:                          -0.106   Prob(JB):                        0.288\n",
       "Kurtosis:                       3.821   Cond. No.                         301.\n",
       "==============================================================================\n",
       "\n",
       "Warnings:\n",
       "[1] Standard Errors assume that the covariance matrix of the errors is correctly specified.\n",
       "\"\"\""
      ]
     },
     "execution_count": 23,
     "metadata": {},
     "output_type": "execute_result"
    }
   ],
   "source": [
    "y = df3['GDP in millions of euros']\n",
    "x = df3[['Euro Area debt in percent of GDP','unemployment rate', 'industry index', 'ESI', 'trade openess index','HICP index change(inflation)', 'capacity utilization in percent','PMI']]\n",
    "x = sm.add_constant(x)\n",
    "model = sm.OLS(y,x)\n",
    "result = model.fit()\n",
    "result.summary()"
   ]
  },
  {
   "cell_type": "code",
   "execution_count": 25,
   "metadata": {},
   "outputs": [
    {
     "name": "stdout",
     "output_type": "stream",
     "text": [
      "(-2.5334809829405414, 0.010924971357641639, {'1%': -2.595786364265928, '5%': -1.945045666733489, '10%': -1.613737358579968}, <statsmodels.tsa.stattools.ResultsStore object at 0x000002D0EE25E280>)\n"
     ]
    }
   ],
   "source": [
    "Unit_root_resid = adfuller(result.resid,regression='nc',autolag='AIC',store = True,regresults=True)\n",
    "print(Unit_root_resid)"
   ]
  },
  {
   "cell_type": "code",
   "execution_count": null,
   "metadata": {},
   "outputs": [],
   "source": [
    "Μετά τον έλεγχο ADF στα κατάλοιπα έχω στασιμότητα στα κατάλοιπα άρα Υ,Χ συνολοκληρώνονται"
   ]
  },
  {
   "cell_type": "code",
   "execution_count": 12,
   "metadata": {},
   "outputs": [],
   "source": [
    "from pmdarima import auto_arima\n",
    "import warnings\n",
    "warnings.filterwarnings('ignore')"
   ]
  },
  {
   "cell_type": "code",
   "execution_count": 81,
   "metadata": {},
   "outputs": [
    {
     "data": {
      "text/plain": [
       "ARIMA(order=(0, 0, 1), scoring_args={}, suppress_warnings=True)"
      ]
     },
     "execution_count": 81,
     "metadata": {},
     "output_type": "execute_result"
    }
   ],
   "source": [
    "auto_arima(df1['GDP in millions of euros'])"
   ]
  },
  {
   "cell_type": "code",
   "execution_count": 27,
   "metadata": {},
   "outputs": [],
   "source": [
    "train = df.iloc[:75]\n",
    "test = df.iloc[75:79]"
   ]
  },
  {
   "cell_type": "code",
   "execution_count": 73,
   "metadata": {},
   "outputs": [],
   "source": [
    "from statsmodels.tsa.statespace.sarimax import SARIMAX\n",
    "from statsmodels.tsa.ar_model import AR,ARResults"
   ]
  },
  {
   "cell_type": "code",
   "execution_count": 86,
   "metadata": {},
   "outputs": [
    {
     "data": {
      "text/html": [
       "<table class=\"simpletable\">\n",
       "<caption>SARIMAX Results</caption>\n",
       "<tr>\n",
       "  <th>Dep. Variable:</th>   <td>GDP in millions of euros</td> <th>  No. Observations:  </th>    <td>75</td>   \n",
       "</tr>\n",
       "<tr>\n",
       "  <th>Model:</th>               <td>SARIMAX(1, 1, 2)</td>     <th>  Log Likelihood     </th> <td>-818.790</td>\n",
       "</tr>\n",
       "<tr>\n",
       "  <th>Date:</th>                <td>Wed, 05 May 2021</td>     <th>  AIC                </th> <td>1645.581</td>\n",
       "</tr>\n",
       "<tr>\n",
       "  <th>Time:</th>                    <td>12:53:47</td>         <th>  BIC                </th> <td>1654.797</td>\n",
       "</tr>\n",
       "<tr>\n",
       "  <th>Sample:</th>                 <td>01-01-2000</td>        <th>  HQIC               </th> <td>1649.257</td>\n",
       "</tr>\n",
       "<tr>\n",
       "  <th></th>                       <td>- 07-01-2018</td>       <th>                     </th>     <td> </td>   \n",
       "</tr>\n",
       "<tr>\n",
       "  <th>Covariance Type:</th>            <td>opg</td>           <th>                     </th>     <td> </td>   \n",
       "</tr>\n",
       "</table>\n",
       "<table class=\"simpletable\">\n",
       "<tr>\n",
       "     <td></td>       <th>coef</th>     <th>std err</th>      <th>z</th>      <th>P>|z|</th>  <th>[0.025</th>    <th>0.975]</th>  \n",
       "</tr>\n",
       "<tr>\n",
       "  <th>ar.L1</th>  <td>    0.9997</td> <td>    0.006</td> <td>  181.474</td> <td> 0.000</td> <td>    0.989</td> <td>    1.010</td>\n",
       "</tr>\n",
       "<tr>\n",
       "  <th>ma.L1</th>  <td>   -0.9903</td> <td>    0.024</td> <td>  -40.732</td> <td> 0.000</td> <td>   -1.038</td> <td>   -0.943</td>\n",
       "</tr>\n",
       "<tr>\n",
       "  <th>ma.L2</th>  <td>   -0.0071</td> <td>    0.013</td> <td>   -0.543</td> <td> 0.587</td> <td>   -0.033</td> <td>    0.019</td>\n",
       "</tr>\n",
       "<tr>\n",
       "  <th>sigma2</th> <td> 1.438e+08</td> <td> 6.67e-12</td> <td> 2.15e+19</td> <td> 0.000</td> <td> 1.44e+08</td> <td> 1.44e+08</td>\n",
       "</tr>\n",
       "</table>\n",
       "<table class=\"simpletable\">\n",
       "<tr>\n",
       "  <th>Ljung-Box (Q):</th>          <td>101.83</td> <th>  Jarque-Bera (JB):  </th> <td>481.31</td>\n",
       "</tr>\n",
       "<tr>\n",
       "  <th>Prob(Q):</th>                 <td>0.00</td>  <th>  Prob(JB):          </th>  <td>0.00</td> \n",
       "</tr>\n",
       "<tr>\n",
       "  <th>Heteroskedasticity (H):</th>  <td>1.54</td>  <th>  Skew:              </th>  <td>-2.65</td>\n",
       "</tr>\n",
       "<tr>\n",
       "  <th>Prob(H) (two-sided):</th>     <td>0.28</td>  <th>  Kurtosis:          </th>  <td>14.31</td>\n",
       "</tr>\n",
       "</table><br/><br/>Warnings:<br/>[1] Covariance matrix calculated using the outer product of gradients (complex-step).<br/>[2] Covariance matrix is singular or near-singular, with condition number 1.96e+35. Standard errors may be unstable."
      ],
      "text/plain": [
       "<class 'statsmodels.iolib.summary.Summary'>\n",
       "\"\"\"\n",
       "                                  SARIMAX Results                                   \n",
       "====================================================================================\n",
       "Dep. Variable:     GDP in millions of euros   No. Observations:                   75\n",
       "Model:                     SARIMAX(1, 1, 2)   Log Likelihood                -818.790\n",
       "Date:                      Wed, 05 May 2021   AIC                           1645.581\n",
       "Time:                              12:53:47   BIC                           1654.797\n",
       "Sample:                          01-01-2000   HQIC                          1649.257\n",
       "                               - 07-01-2018                                         \n",
       "Covariance Type:                        opg                                         \n",
       "==============================================================================\n",
       "                 coef    std err          z      P>|z|      [0.025      0.975]\n",
       "------------------------------------------------------------------------------\n",
       "ar.L1          0.9997      0.006    181.474      0.000       0.989       1.010\n",
       "ma.L1         -0.9903      0.024    -40.732      0.000      -1.038      -0.943\n",
       "ma.L2         -0.0071      0.013     -0.543      0.587      -0.033       0.019\n",
       "sigma2      1.438e+08   6.67e-12   2.15e+19      0.000    1.44e+08    1.44e+08\n",
       "===================================================================================\n",
       "Ljung-Box (Q):                      101.83   Jarque-Bera (JB):               481.31\n",
       "Prob(Q):                              0.00   Prob(JB):                         0.00\n",
       "Heteroskedasticity (H):               1.54   Skew:                            -2.65\n",
       "Prob(H) (two-sided):                  0.28   Kurtosis:                        14.31\n",
       "===================================================================================\n",
       "\n",
       "Warnings:\n",
       "[1] Covariance matrix calculated using the outer product of gradients (complex-step).\n",
       "[2] Covariance matrix is singular or near-singular, with condition number 1.96e+35. Standard errors may be unstable.\n",
       "\"\"\""
      ]
     },
     "execution_count": 86,
     "metadata": {},
     "output_type": "execute_result"
    }
   ],
   "source": [
    "model = SARIMAX(train['GDP in millions of euros'],order = (1,1,2))\n",
    "results = model.fit()\n",
    "results.summary()"
   ]
  },
  {
   "cell_type": "code",
   "execution_count": 87,
   "metadata": {},
   "outputs": [],
   "source": [
    "start = len(train)\n",
    "end = len(train)+len(test)-1\n",
    "predictions = results.predict(start = start,end = end,dynamic = False,typ = 'levels')\n"
   ]
  },
  {
   "cell_type": "code",
   "execution_count": 88,
   "metadata": {},
   "outputs": [
    {
     "data": {
      "text/plain": [
       "2018-10-01    2.919542e+06\n",
       "2019-01-01    2.935069e+06\n",
       "2019-04-01    2.950591e+06\n",
       "2019-07-01    2.966107e+06\n",
       "Freq: QS-OCT, dtype: float64"
      ]
     },
     "execution_count": 88,
     "metadata": {},
     "output_type": "execute_result"
    }
   ],
   "source": [
    "predictions"
   ]
  },
  {
   "cell_type": "code",
   "execution_count": 89,
   "metadata": {},
   "outputs": [
    {
     "data": {
      "text/plain": [
       "observation_date\n",
       "2018-10-01    2934227.6\n",
       "2019-01-01    2959075.2\n",
       "2019-04-01    2977807.7\n",
       "2019-07-01    2997157.8\n",
       "Name: GDP in millions of euros, dtype: float64"
      ]
     },
     "execution_count": 89,
     "metadata": {},
     "output_type": "execute_result"
    }
   ],
   "source": [
    "test['GDP in millions of euros']"
   ]
  },
  {
   "cell_type": "code",
   "execution_count": 72,
   "metadata": {},
   "outputs": [
    {
     "data": {
      "text/plain": [
       "<matplotlib.axes._subplots.AxesSubplot at 0x1d3157638e0>"
      ]
     },
     "execution_count": 72,
     "metadata": {},
     "output_type": "execute_result"
    },
    {
     "data": {
      "image/png": "[encoded data removed]",
      "text/plain": [
       "<Figure size 864x576 with 1 Axes>"
      ]
     },
     "metadata": {
      "needs_background": "light"
     },
     "output_type": "display_data"
    }
   ],
   "source": [
    "test['GDP in millions of euros'].plot(figsize = (12,8),legend = True)\n",
    "predictions.plot(legend = True)"
   ]
  },
  {
   "cell_type": "code",
   "execution_count": 77,
   "metadata": {},
   "outputs": [
    {
     "name": "stdout",
     "output_type": "stream",
     "text": [
      "Lag: 11\n",
      "Coefficients:\n",
      "const                           10083.233368\n",
      "L1.GDP in millions of euros         1.760459\n",
      "L2.GDP in millions of euros        -0.634290\n",
      "L3.GDP in millions of euros        -0.225485\n",
      "L4.GDP in millions of euros         0.172972\n",
      "L5.GDP in millions of euros        -0.307379\n",
      "L6.GDP in millions of euros         0.503481\n",
      "L7.GDP in millions of euros        -0.274613\n",
      "L8.GDP in millions of euros        -0.245366\n",
      "L9.GDP in millions of euros         0.407710\n",
      "L10.GDP in millions of euros       -0.054492\n",
      "L11.GDP in millions of euros       -0.107298\n",
      "dtype: float64\n"
     ]
    }
   ],
   "source": [
    "model1 = AR(train['GDP in millions of euros'])\n",
    "ARfit = model1.fit(method='mle')\n",
    "print(f'Lag: {ARfit.k_ar}')\n",
    "print(f'Coefficients:\\n{ARfit.params}')"
   ]
  },
  {
   "cell_type": "code",
   "execution_count": 78,
   "metadata": {},
   "outputs": [],
   "source": [
    "start=len(train)\n",
    "end=len(train)+len(test)\n",
    "predictions1 = ARfit.predict(start=start, end=end, dynamic=False).rename('AR(11) Predictions')"
   ]
  },
  {
   "cell_type": "code",
   "execution_count": 79,
   "metadata": {},
   "outputs": [
    {
     "data": {
      "text/plain": [
       "2018-10-01    2.917189e+06\n",
       "2019-01-01    2.925179e+06\n",
       "2019-04-01    2.936147e+06\n",
       "2019-07-01    2.942425e+06\n",
       "2019-10-01    2.948776e+06\n",
       "Freq: QS-OCT, Name: AR(11) Predictions, dtype: float64"
      ]
     },
     "execution_count": 79,
     "metadata": {},
     "output_type": "execute_result"
    }
   ],
   "source": [
    "predictions1"
   ]
  },
  {
   "cell_type": "code",
   "execution_count": 82,
   "metadata": {},
   "outputs": [
    {
     "data": {
      "text/plain": [
       "<matplotlib.axes._subplots.AxesSubplot at 0x1d3160fd520>"
      ]
     },
     "execution_count": 82,
     "metadata": {},
     "output_type": "execute_result"
    },
    {
     "data": {
      "image/png": "[encoded data removed]",
      "text/plain": [
       "<Figure size 432x288 with 1 Axes>"
      ]
     },
     "metadata": {
      "needs_background": "light"
     },
     "output_type": "display_data"
    }
   ],
   "source": [
    "df['GDP in millions of euros'].plot()"
   ]
  },
  {
   "cell_type": "code",
   "execution_count": 90,
   "metadata": {},
   "outputs": [
    {
     "data": {
      "text/plain": [
       "<matplotlib.axes._subplots.AxesSubplot at 0x1d3164638b0>"
      ]
     },
     "execution_count": 90,
     "metadata": {},
     "output_type": "execute_result"
    },
    {
     "data": {
      "image/png": "[encoded data removed]",
      "text/plain": [
       "<Figure size 432x288 with 1 Axes>"
      ]
     },
     "metadata": {
      "needs_background": "light"
     },
     "output_type": "display_data"
    }
   ],
   "source": [
    "df1['GDP in millions of euros'].plot()"
   ]
  },
  {
   "cell_type": "code",
   "execution_count": 91,
   "metadata": {},
   "outputs": [
    {
     "data": {
      "text/html": [
       "<table class=\"simpletable\">\n",
       "<caption>SARIMAX Results</caption>\n",
       "<tr>\n",
       "  <th>Dep. Variable:</th>           <td>y</td>        <th>  No. Observations:  </th>    <td>83</td>    \n",
       "</tr>\n",
       "<tr>\n",
       "  <th>Model:</th>           <td>SARIMAX(2, 0, 0)</td> <th>  Log Likelihood     </th> <td>-1014.417</td>\n",
       "</tr>\n",
       "<tr>\n",
       "  <th>Date:</th>            <td>Wed, 05 May 2021</td> <th>  AIC                </th> <td>2036.834</td> \n",
       "</tr>\n",
       "<tr>\n",
       "  <th>Time:</th>                <td>12:57:56</td>     <th>  BIC                </th> <td>2046.509</td> \n",
       "</tr>\n",
       "<tr>\n",
       "  <th>Sample:</th>                  <td>0</td>        <th>  HQIC               </th> <td>2040.721</td> \n",
       "</tr>\n",
       "<tr>\n",
       "  <th></th>                       <td> - 83</td>      <th>                     </th>     <td> </td>    \n",
       "</tr>\n",
       "<tr>\n",
       "  <th>Covariance Type:</th>        <td>opg</td>       <th>                     </th>     <td> </td>    \n",
       "</tr>\n",
       "</table>\n",
       "<table class=\"simpletable\">\n",
       "<tr>\n",
       "      <td></td>         <th>coef</th>     <th>std err</th>      <th>z</th>      <th>P>|z|</th>  <th>[0.025</th>    <th>0.975]</th>  \n",
       "</tr>\n",
       "<tr>\n",
       "  <th>intercept</th> <td> 2.069e+04</td> <td> 1.15e+04</td> <td>    1.800</td> <td> 0.072</td> <td>-1836.678</td> <td> 4.32e+04</td>\n",
       "</tr>\n",
       "<tr>\n",
       "  <th>ar.L1</th>     <td>   -0.2738</td> <td>    0.097</td> <td>   -2.833</td> <td> 0.005</td> <td>   -0.463</td> <td>   -0.084</td>\n",
       "</tr>\n",
       "<tr>\n",
       "  <th>ar.L2</th>     <td>   -0.2436</td> <td>    0.215</td> <td>   -1.132</td> <td> 0.258</td> <td>   -0.665</td> <td>    0.178</td>\n",
       "</tr>\n",
       "<tr>\n",
       "  <th>sigma2</th>    <td>  2.47e+09</td> <td>    0.242</td> <td> 1.02e+10</td> <td> 0.000</td> <td> 2.47e+09</td> <td> 2.47e+09</td>\n",
       "</tr>\n",
       "</table>\n",
       "<table class=\"simpletable\">\n",
       "<tr>\n",
       "  <th>Ljung-Box (Q):</th>          <td>3.54</td>  <th>  Jarque-Bera (JB):  </th> <td>4079.91</td>\n",
       "</tr>\n",
       "<tr>\n",
       "  <th>Prob(Q):</th>                <td>1.00</td>  <th>  Prob(JB):          </th>  <td>0.00</td>  \n",
       "</tr>\n",
       "<tr>\n",
       "  <th>Heteroskedasticity (H):</th> <td>30.76</td> <th>  Skew:              </th>  <td>-4.41</td> \n",
       "</tr>\n",
       "<tr>\n",
       "  <th>Prob(H) (two-sided):</th>    <td>0.00</td>  <th>  Kurtosis:          </th>  <td>36.20</td> \n",
       "</tr>\n",
       "</table><br/><br/>Warnings:<br/>[1] Covariance matrix calculated using the outer product of gradients (complex-step).<br/>[2] Covariance matrix is singular or near-singular, with condition number 1.37e+28. Standard errors may be unstable."
      ],
      "text/plain": [
       "<class 'statsmodels.iolib.summary.Summary'>\n",
       "\"\"\"\n",
       "                               SARIMAX Results                                \n",
       "==============================================================================\n",
       "Dep. Variable:                      y   No. Observations:                   83\n",
       "Model:               SARIMAX(2, 0, 0)   Log Likelihood               -1014.417\n",
       "Date:                Wed, 05 May 2021   AIC                           2036.834\n",
       "Time:                        12:57:56   BIC                           2046.509\n",
       "Sample:                             0   HQIC                          2040.721\n",
       "                                 - 83                                         \n",
       "Covariance Type:                  opg                                         \n",
       "==============================================================================\n",
       "                 coef    std err          z      P>|z|      [0.025      0.975]\n",
       "------------------------------------------------------------------------------\n",
       "intercept   2.069e+04   1.15e+04      1.800      0.072   -1836.678    4.32e+04\n",
       "ar.L1         -0.2738      0.097     -2.833      0.005      -0.463      -0.084\n",
       "ar.L2         -0.2436      0.215     -1.132      0.258      -0.665       0.178\n",
       "sigma2       2.47e+09      0.242   1.02e+10      0.000    2.47e+09    2.47e+09\n",
       "===================================================================================\n",
       "Ljung-Box (Q):                        3.54   Jarque-Bera (JB):              4079.91\n",
       "Prob(Q):                              1.00   Prob(JB):                         0.00\n",
       "Heteroskedasticity (H):              30.76   Skew:                            -4.41\n",
       "Prob(H) (two-sided):                  0.00   Kurtosis:                        36.20\n",
       "===================================================================================\n",
       "\n",
       "Warnings:\n",
       "[1] Covariance matrix calculated using the outer product of gradients (complex-step).\n",
       "[2] Covariance matrix is singular or near-singular, with condition number 1.37e+28. Standard errors may be unstable.\n",
       "\"\"\""
      ]
     },
     "execution_count": 91,
     "metadata": {},
     "output_type": "execute_result"
    }
   ],
   "source": [
    "auto_arima(df1['GDP in millions of euros'],seasonal=False).summary()"
   ]
  },
  {
   "cell_type": "code",
   "execution_count": 92,
   "metadata": {},
   "outputs": [],
   "source": [
    "from statsmodels.tsa.arima_model import ARMA,ARMAResults"
   ]
  },
  {
   "cell_type": "code",
   "execution_count": 94,
   "metadata": {},
   "outputs": [
    {
     "data": {
      "text/html": [
       "<table class=\"simpletable\">\n",
       "<caption>SARIMAX Results</caption>\n",
       "<tr>\n",
       "  <th>Dep. Variable:</th>   <td>GDP in millions of euros</td> <th>  No. Observations:  </th>    <td>75</td>   \n",
       "</tr>\n",
       "<tr>\n",
       "  <th>Model:</th>               <td>SARIMAX(1, 1, 2)</td>     <th>  Log Likelihood     </th> <td>-818.790</td>\n",
       "</tr>\n",
       "<tr>\n",
       "  <th>Date:</th>                <td>Wed, 05 May 2021</td>     <th>  AIC                </th> <td>1645.581</td>\n",
       "</tr>\n",
       "<tr>\n",
       "  <th>Time:</th>                    <td>13:01:21</td>         <th>  BIC                </th> <td>1654.797</td>\n",
       "</tr>\n",
       "<tr>\n",
       "  <th>Sample:</th>                 <td>01-01-2000</td>        <th>  HQIC               </th> <td>1649.257</td>\n",
       "</tr>\n",
       "<tr>\n",
       "  <th></th>                       <td>- 07-01-2018</td>       <th>                     </th>     <td> </td>   \n",
       "</tr>\n",
       "<tr>\n",
       "  <th>Covariance Type:</th>            <td>opg</td>           <th>                     </th>     <td> </td>   \n",
       "</tr>\n",
       "</table>\n",
       "<table class=\"simpletable\">\n",
       "<tr>\n",
       "     <td></td>       <th>coef</th>     <th>std err</th>      <th>z</th>      <th>P>|z|</th>  <th>[0.025</th>    <th>0.975]</th>  \n",
       "</tr>\n",
       "<tr>\n",
       "  <th>ar.L1</th>  <td>    0.9997</td> <td>    0.006</td> <td>  181.474</td> <td> 0.000</td> <td>    0.989</td> <td>    1.010</td>\n",
       "</tr>\n",
       "<tr>\n",
       "  <th>ma.L1</th>  <td>   -0.9903</td> <td>    0.024</td> <td>  -40.732</td> <td> 0.000</td> <td>   -1.038</td> <td>   -0.943</td>\n",
       "</tr>\n",
       "<tr>\n",
       "  <th>ma.L2</th>  <td>   -0.0071</td> <td>    0.013</td> <td>   -0.543</td> <td> 0.587</td> <td>   -0.033</td> <td>    0.019</td>\n",
       "</tr>\n",
       "<tr>\n",
       "  <th>sigma2</th> <td> 1.438e+08</td> <td> 6.67e-12</td> <td> 2.15e+19</td> <td> 0.000</td> <td> 1.44e+08</td> <td> 1.44e+08</td>\n",
       "</tr>\n",
       "</table>\n",
       "<table class=\"simpletable\">\n",
       "<tr>\n",
       "  <th>Ljung-Box (Q):</th>          <td>101.83</td> <th>  Jarque-Bera (JB):  </th> <td>481.31</td>\n",
       "</tr>\n",
       "<tr>\n",
       "  <th>Prob(Q):</th>                 <td>0.00</td>  <th>  Prob(JB):          </th>  <td>0.00</td> \n",
       "</tr>\n",
       "<tr>\n",
       "  <th>Heteroskedasticity (H):</th>  <td>1.54</td>  <th>  Skew:              </th>  <td>-2.65</td>\n",
       "</tr>\n",
       "<tr>\n",
       "  <th>Prob(H) (two-sided):</th>     <td>0.28</td>  <th>  Kurtosis:          </th>  <td>14.31</td>\n",
       "</tr>\n",
       "</table><br/><br/>Warnings:<br/>[1] Covariance matrix calculated using the outer product of gradients (complex-step).<br/>[2] Covariance matrix is singular or near-singular, with condition number 1.96e+35. Standard errors may be unstable."
      ],
      "text/plain": [
       "<class 'statsmodels.iolib.summary.Summary'>\n",
       "\"\"\"\n",
       "                                  SARIMAX Results                                   \n",
       "====================================================================================\n",
       "Dep. Variable:     GDP in millions of euros   No. Observations:                   75\n",
       "Model:                     SARIMAX(1, 1, 2)   Log Likelihood                -818.790\n",
       "Date:                      Wed, 05 May 2021   AIC                           1645.581\n",
       "Time:                              13:01:21   BIC                           1654.797\n",
       "Sample:                          01-01-2000   HQIC                          1649.257\n",
       "                               - 07-01-2018                                         \n",
       "Covariance Type:                        opg                                         \n",
       "==============================================================================\n",
       "                 coef    std err          z      P>|z|      [0.025      0.975]\n",
       "------------------------------------------------------------------------------\n",
       "ar.L1          0.9997      0.006    181.474      0.000       0.989       1.010\n",
       "ma.L1         -0.9903      0.024    -40.732      0.000      -1.038      -0.943\n",
       "ma.L2         -0.0071      0.013     -0.543      0.587      -0.033       0.019\n",
       "sigma2      1.438e+08   6.67e-12   2.15e+19      0.000    1.44e+08    1.44e+08\n",
       "===================================================================================\n",
       "Ljung-Box (Q):                      101.83   Jarque-Bera (JB):               481.31\n",
       "Prob(Q):                              0.00   Prob(JB):                         0.00\n",
       "Heteroskedasticity (H):               1.54   Skew:                            -2.65\n",
       "Prob(H) (two-sided):                  0.28   Kurtosis:                        14.31\n",
       "===================================================================================\n",
       "\n",
       "Warnings:\n",
       "[1] Covariance matrix calculated using the outer product of gradients (complex-step).\n",
       "[2] Covariance matrix is singular or near-singular, with condition number 1.96e+35. Standard errors may be unstable.\n",
       "\"\"\""
      ]
     },
     "execution_count": 94,
     "metadata": {},
     "output_type": "execute_result"
    }
   ],
   "source": [
    "model2 = ARMA(df1['GDP in millions of euros'],order=(2,0))\n",
    "results2 = model.fit()\n",
    "results2.summary()"
   ]
  },
  {
   "cell_type": "code",
   "execution_count": 6,
   "metadata": {},
   "outputs": [
    {
     "data": {
      "text/plain": [
       "Index(['GDP in millions of euros', 'Euro Area debt in percent of GDP',\n",
       "       'unemployment rate', 'industry index', 'ESI', 'trade openess index',\n",
       "       'HICP index change(inflation)', 'capacity utilization in percent'],\n",
       "      dtype='object')"
      ]
     },
     "execution_count": 6,
     "metadata": {},
     "output_type": "execute_result"
    }
   ],
   "source": [
    "df.columns"
   ]
  },
  {
   "cell_type": "code",
   "execution_count": 9,
   "metadata": {},
   "outputs": [
    {
     "data": {
      "text/html": [
       "<div>\n",
       "<style scoped>\n",
       "    .dataframe tbody tr th:only-of-type {\n",
       "        vertical-align: middle;\n",
       "    }\n",
       "\n",
       "    .dataframe tbody tr th {\n",
       "        vertical-align: top;\n",
       "    }\n",
       "\n",
       "    .dataframe thead th {\n",
       "        text-align: right;\n",
       "    }\n",
       "</style>\n",
       "<table border=\"1\" class=\"dataframe\">\n",
       "  <thead>\n",
       "    <tr style=\"text-align: right;\">\n",
       "      <th></th>\n",
       "      <th>Euro Area debt in percent of GDP</th>\n",
       "      <th>unemployment rate</th>\n",
       "      <th>industry index</th>\n",
       "      <th>ESI</th>\n",
       "      <th>trade openess index</th>\n",
       "      <th>HICP index change(inflation)</th>\n",
       "      <th>capacity utilization in percent</th>\n",
       "    </tr>\n",
       "    <tr>\n",
       "      <th>observation_date</th>\n",
       "      <th></th>\n",
       "      <th></th>\n",
       "      <th></th>\n",
       "      <th></th>\n",
       "      <th></th>\n",
       "      <th></th>\n",
       "      <th></th>\n",
       "    </tr>\n",
       "  </thead>\n",
       "  <tbody>\n",
       "    <tr>\n",
       "      <th>2000-01-01</th>\n",
       "      <td>0.715</td>\n",
       "      <td>0.093000</td>\n",
       "      <td>92.958920</td>\n",
       "      <td>115.466667</td>\n",
       "      <td>76.806401</td>\n",
       "      <td>0.486667</td>\n",
       "      <td>0.830</td>\n",
       "    </tr>\n",
       "    <tr>\n",
       "      <th>2000-04-01</th>\n",
       "      <td>0.710</td>\n",
       "      <td>0.090000</td>\n",
       "      <td>95.125406</td>\n",
       "      <td>117.266667</td>\n",
       "      <td>77.673139</td>\n",
       "      <td>0.486667</td>\n",
       "      <td>0.834</td>\n",
       "    </tr>\n",
       "    <tr>\n",
       "      <th>2000-07-01</th>\n",
       "      <td>0.705</td>\n",
       "      <td>0.087667</td>\n",
       "      <td>95.925340</td>\n",
       "      <td>116.200000</td>\n",
       "      <td>78.573214</td>\n",
       "      <td>0.423333</td>\n",
       "      <td>0.837</td>\n",
       "    </tr>\n",
       "    <tr>\n",
       "      <th>2000-10-01</th>\n",
       "      <td>0.691</td>\n",
       "      <td>0.085000</td>\n",
       "      <td>96.991917</td>\n",
       "      <td>113.900000</td>\n",
       "      <td>79.973331</td>\n",
       "      <td>0.483333</td>\n",
       "      <td>0.845</td>\n",
       "    </tr>\n",
       "    <tr>\n",
       "      <th>2001-01-01</th>\n",
       "      <td>0.688</td>\n",
       "      <td>0.083000</td>\n",
       "      <td>96.958587</td>\n",
       "      <td>110.800000</td>\n",
       "      <td>80.773398</td>\n",
       "      <td>0.216667</td>\n",
       "      <td>0.843</td>\n",
       "    </tr>\n",
       "    <tr>\n",
       "      <th>...</th>\n",
       "      <td>...</td>\n",
       "      <td>...</td>\n",
       "      <td>...</td>\n",
       "      <td>...</td>\n",
       "      <td>...</td>\n",
       "      <td>...</td>\n",
       "      <td>...</td>\n",
       "    </tr>\n",
       "    <tr>\n",
       "      <th>2017-10-01</th>\n",
       "      <td>0.877</td>\n",
       "      <td>0.087333</td>\n",
       "      <td>106.857762</td>\n",
       "      <td>114.333333</td>\n",
       "      <td>106.342195</td>\n",
       "      <td>0.390000</td>\n",
       "      <td>0.837</td>\n",
       "    </tr>\n",
       "    <tr>\n",
       "      <th>2018-01-01</th>\n",
       "      <td>0.877</td>\n",
       "      <td>0.085333</td>\n",
       "      <td>105.424548</td>\n",
       "      <td>113.866667</td>\n",
       "      <td>106.708892</td>\n",
       "      <td>-0.240000</td>\n",
       "      <td>0.841</td>\n",
       "    </tr>\n",
       "    <tr>\n",
       "      <th>2018-04-01</th>\n",
       "      <td>0.872</td>\n",
       "      <td>0.083000</td>\n",
       "      <td>105.891176</td>\n",
       "      <td>112.433333</td>\n",
       "      <td>108.109009</td>\n",
       "      <td>1.710000</td>\n",
       "      <td>0.839</td>\n",
       "    </tr>\n",
       "    <tr>\n",
       "      <th>2018-07-01</th>\n",
       "      <td>0.870</td>\n",
       "      <td>0.080333</td>\n",
       "      <td>105.524540</td>\n",
       "      <td>111.466667</td>\n",
       "      <td>108.475706</td>\n",
       "      <td>0.300000</td>\n",
       "      <td>0.836</td>\n",
       "    </tr>\n",
       "    <tr>\n",
       "      <th>2018-10-01</th>\n",
       "      <td>0.858</td>\n",
       "      <td>0.079000</td>\n",
       "      <td>104.724606</td>\n",
       "      <td>109.366667</td>\n",
       "      <td>109.409117</td>\n",
       "      <td>0.183333</td>\n",
       "      <td>0.835</td>\n",
       "    </tr>\n",
       "  </tbody>\n",
       "</table>\n",
       "<p>76 rows × 7 columns</p>\n",
       "</div>"
      ],
      "text/plain": [
       "                  Euro Area debt in percent of GDP  unemployment rate  \\\n",
       "observation_date                                                        \n",
       "2000-01-01                                   0.715           0.093000   \n",
       "2000-04-01                                   0.710           0.090000   \n",
       "2000-07-01                                   0.705           0.087667   \n",
       "2000-10-01                                   0.691           0.085000   \n",
       "2001-01-01                                   0.688           0.083000   \n",
       "...                                            ...                ...   \n",
       "2017-10-01                                   0.877           0.087333   \n",
       "2018-01-01                                   0.877           0.085333   \n",
       "2018-04-01                                   0.872           0.083000   \n",
       "2018-07-01                                   0.870           0.080333   \n",
       "2018-10-01                                   0.858           0.079000   \n",
       "\n",
       "                  industry index         ESI  trade openess index  \\\n",
       "observation_date                                                    \n",
       "2000-01-01             92.958920  115.466667            76.806401   \n",
       "2000-04-01             95.125406  117.266667            77.673139   \n",
       "2000-07-01             95.925340  116.200000            78.573214   \n",
       "2000-10-01             96.991917  113.900000            79.973331   \n",
       "2001-01-01             96.958587  110.800000            80.773398   \n",
       "...                          ...         ...                  ...   \n",
       "2017-10-01            106.857762  114.333333           106.342195   \n",
       "2018-01-01            105.424548  113.866667           106.708892   \n",
       "2018-04-01            105.891176  112.433333           108.109009   \n",
       "2018-07-01            105.524540  111.466667           108.475706   \n",
       "2018-10-01            104.724606  109.366667           109.409117   \n",
       "\n",
       "                  HICP index change(inflation)  \\\n",
       "observation_date                                 \n",
       "2000-01-01                            0.486667   \n",
       "2000-04-01                            0.486667   \n",
       "2000-07-01                            0.423333   \n",
       "2000-10-01                            0.483333   \n",
       "2001-01-01                            0.216667   \n",
       "...                                        ...   \n",
       "2017-10-01                            0.390000   \n",
       "2018-01-01                           -0.240000   \n",
       "2018-04-01                            1.710000   \n",
       "2018-07-01                            0.300000   \n",
       "2018-10-01                            0.183333   \n",
       "\n",
       "                  capacity utilization in percent  \n",
       "observation_date                                   \n",
       "2000-01-01                                  0.830  \n",
       "2000-04-01                                  0.834  \n",
       "2000-07-01                                  0.837  \n",
       "2000-10-01                                  0.845  \n",
       "2001-01-01                                  0.843  \n",
       "...                                           ...  \n",
       "2017-10-01                                  0.837  \n",
       "2018-01-01                                  0.841  \n",
       "2018-04-01                                  0.839  \n",
       "2018-07-01                                  0.836  \n",
       "2018-10-01                                  0.835  \n",
       "\n",
       "[76 rows x 7 columns]"
      ]
     },
     "execution_count": 9,
     "metadata": {},
     "output_type": "execute_result"
    }
   ],
   "source": [
    "X = df.iloc[:76][['Euro Area debt in percent of GDP',\n",
    "       'unemployment rate', 'industry index', 'ESI', 'trade openess index',\n",
    "       'HICP index change(inflation)', 'capacity utilization in percent']]\n",
    "y = df.iloc[:76]['GDP in millions of euros']\n",
    "X"
   ]
  },
  {
   "cell_type": "code",
   "execution_count": 8,
   "metadata": {},
   "outputs": [],
   "source": [
    "from sklearn.model_selection import train_test_split"
   ]
  },
  {
   "cell_type": "code",
   "execution_count": 10,
   "metadata": {},
   "outputs": [],
   "source": [
    "X_train, X_test, y_train, y_test = train_test_split( X, y, test_size=0.25, random_state=101)"
   ]
  },
  {
   "cell_type": "code",
   "execution_count": 11,
   "metadata": {},
   "outputs": [],
   "source": [
    "from sklearn.linear_model import LinearRegression"
   ]
  },
  {
   "cell_type": "code",
   "execution_count": 12,
   "metadata": {},
   "outputs": [],
   "source": [
    "lm = LinearRegression()"
   ]
  },
  {
   "cell_type": "code",
   "execution_count": 14,
   "metadata": {},
   "outputs": [
    {
     "data": {
      "text/plain": [
       "LinearRegression()"
      ]
     },
     "execution_count": 14,
     "metadata": {},
     "output_type": "execute_result"
    }
   ],
   "source": [
    "lm.fit(X_train,y_train)"
   ]
  },
  {
   "cell_type": "code",
   "execution_count": 15,
   "metadata": {},
   "outputs": [
    {
     "name": "stdout",
     "output_type": "stream",
     "text": [
      "-1159538.2846174855\n"
     ]
    }
   ],
   "source": [
    "print(lm.intercept_)"
   ]
  },
  {
   "cell_type": "code",
   "execution_count": 16,
   "metadata": {},
   "outputs": [
    {
     "data": {
      "text/plain": [
       "array([ 10520.27128304, -35966.4199027 ,   5186.62441821,    -90.44354662,\n",
       "        29995.09521894, -16962.30355015,  -3962.40862713])"
      ]
     },
     "execution_count": 16,
     "metadata": {},
     "output_type": "execute_result"
    }
   ],
   "source": [
    "lm.coef_"
   ]
  },
  {
   "cell_type": "code",
   "execution_count": 17,
   "metadata": {},
   "outputs": [
    {
     "data": {
      "text/plain": [
       "Index(['Euro Area debt in percent of GDP', 'unemployment rate',\n",
       "       'industry index', 'ESI', 'trade openess index',\n",
       "       'HICP index change(inflation)', 'capacity utilization in percent'],\n",
       "      dtype='object')"
      ]
     },
     "execution_count": 17,
     "metadata": {},
     "output_type": "execute_result"
    }
   ],
   "source": [
    "X_train.columns"
   ]
  },
  {
   "cell_type": "code",
   "execution_count": 18,
   "metadata": {},
   "outputs": [
    {
     "data": {
      "text/html": [
       "<div>\n",
       "<style scoped>\n",
       "    .dataframe tbody tr th:only-of-type {\n",
       "        vertical-align: middle;\n",
       "    }\n",
       "\n",
       "    .dataframe tbody tr th {\n",
       "        vertical-align: top;\n",
       "    }\n",
       "\n",
       "    .dataframe thead th {\n",
       "        text-align: right;\n",
       "    }\n",
       "</style>\n",
       "<table border=\"1\" class=\"dataframe\">\n",
       "  <thead>\n",
       "    <tr style=\"text-align: right;\">\n",
       "      <th></th>\n",
       "      <th>Coeff</th>\n",
       "    </tr>\n",
       "  </thead>\n",
       "  <tbody>\n",
       "    <tr>\n",
       "      <th>Euro Area debt in percent of GDP</th>\n",
       "      <td>10520.271283</td>\n",
       "    </tr>\n",
       "    <tr>\n",
       "      <th>unemployment rate</th>\n",
       "      <td>-35966.419903</td>\n",
       "    </tr>\n",
       "    <tr>\n",
       "      <th>industry index</th>\n",
       "      <td>5186.624418</td>\n",
       "    </tr>\n",
       "    <tr>\n",
       "      <th>ESI</th>\n",
       "      <td>-90.443547</td>\n",
       "    </tr>\n",
       "    <tr>\n",
       "      <th>trade openess index</th>\n",
       "      <td>29995.095219</td>\n",
       "    </tr>\n",
       "    <tr>\n",
       "      <th>HICP index change(inflation)</th>\n",
       "      <td>-16962.303550</td>\n",
       "    </tr>\n",
       "    <tr>\n",
       "      <th>capacity utilization in percent</th>\n",
       "      <td>-3962.408627</td>\n",
       "    </tr>\n",
       "  </tbody>\n",
       "</table>\n",
       "</div>"
      ],
      "text/plain": [
       "                                         Coeff\n",
       "Euro Area debt in percent of GDP  10520.271283\n",
       "unemployment rate                -35966.419903\n",
       "industry index                     5186.624418\n",
       "ESI                                 -90.443547\n",
       "trade openess index               29995.095219\n",
       "HICP index change(inflation)     -16962.303550\n",
       "capacity utilization in percent   -3962.408627"
      ]
     },
     "execution_count": 18,
     "metadata": {},
     "output_type": "execute_result"
    }
   ],
   "source": [
    "cdf = pd.DataFrame(lm.coef_,X.columns,columns=['Coeff'])\n",
    "cdf"
   ]
  },
  {
   "cell_type": "code",
   "execution_count": 28,
   "metadata": {},
   "outputs": [],
   "source": [
    "predictions2 = lm.predict(X_test)"
   ]
  },
  {
   "cell_type": "code",
   "execution_count": 39,
   "metadata": {},
   "outputs": [
    {
     "data": {
      "text/plain": [
       "array([2633585.28992528, 2482875.88612042, 2410236.20426959,\n",
       "       1932559.26826663, 2135218.60953897, 2228753.07131372,\n",
       "       2090315.65575877, 2425542.42155368, 2261711.04780304,\n",
       "       2086373.32322161, 1771831.13272819, 2268499.27239962,\n",
       "       1999191.94191454, 2771990.59943866, 1882951.44590676,\n",
       "       2280780.36469466, 1950614.16784984, 2504959.77789368,\n",
       "       2485318.56528378, 2592337.64007857])"
      ]
     },
     "execution_count": 39,
     "metadata": {},
     "output_type": "execute_result"
    }
   ],
   "source": [
    "predictions2"
   ]
  },
  {
   "cell_type": "code",
   "execution_count": 40,
   "metadata": {},
   "outputs": [
    {
     "data": {
      "text/plain": [
       "observation_date\n",
       "2015-07-01    2640338.9\n",
       "2013-04-01    2481478.1\n",
       "2008-04-01    2416447.8\n",
       "2003-04-01    1943214.5\n",
       "2005-07-01    2119956.6\n",
       "2006-04-01    2211312.4\n",
       "2005-04-01    2095733.9\n",
       "2008-01-01    2410219.9\n",
       "2006-07-01    2236100.0\n",
       "2005-01-01    2074139.9\n",
       "2000-07-01    1765537.4\n",
       "2009-04-01    2306848.5\n",
       "2004-01-01    2006269.2\n",
       "2017-01-01    2758754.0\n",
       "2001-07-01    1845063.3\n",
       "2006-10-01    2274479.5\n",
       "2003-07-01    1967619.4\n",
       "2011-07-01    2455133.7\n",
       "2013-01-01    2461707.8\n",
       "2015-04-01    2619260.3\n",
       "Name: GDP in millions of euros, dtype: float64"
      ]
     },
     "execution_count": 40,
     "metadata": {},
     "output_type": "execute_result"
    }
   ],
   "source": [
    "y_test"
   ]
  },
  {
   "cell_type": "code",
   "execution_count": 41,
   "metadata": {},
   "outputs": [
    {
     "data": {
      "text/plain": [
       "<matplotlib.collections.PathCollection at 0x21f1709fd60>"
      ]
     },
     "execution_count": 41,
     "metadata": {},
     "output_type": "execute_result"
    },
    {
     "data": {
      "image/png": "[encoded data removed]",
      "text/plain": [
       "<Figure size 432x288 with 1 Axes>"
      ]
     },
     "metadata": {
      "needs_background": "light"
     },
     "output_type": "display_data"
    }
   ],
   "source": [
    "plt.scatter(y_test,predictions2)"
   ]
  },
  {
   "cell_type": "code",
   "execution_count": 42,
   "metadata": {
    "scrolled": true
   },
   "outputs": [
    {
     "data": {
      "text/plain": [
       "<matplotlib.axes._subplots.AxesSubplot at 0x21f16b6d610>"
      ]
     },
     "execution_count": 42,
     "metadata": {},
     "output_type": "execute_result"
    },
    {
     "data": {
      "image/png": "[encoded data removed]",
      "text/plain": [
       "<Figure size 432x288 with 1 Axes>"
      ]
     },
     "metadata": {
      "needs_background": "light"
     },
     "output_type": "display_data"
    }
   ],
   "source": [
    "sns.distplot((y_test-predictions))"
   ]
  },
  {
   "cell_type": "code",
   "execution_count": 43,
   "metadata": {},
   "outputs": [],
   "source": [
    "from sklearn import metrics"
   ]
  },
  {
   "cell_type": "code",
   "execution_count": 44,
   "metadata": {},
   "outputs": [
    {
     "data": {
      "text/plain": [
       "453570206.34889734"
      ]
     },
     "execution_count": 44,
     "metadata": {},
     "output_type": "execute_result"
    }
   ],
   "source": [
    "metrics.mean_squared_error(y_test,predictions2)"
   ]
  },
  {
   "cell_type": "code",
   "execution_count": 45,
   "metadata": {},
   "outputs": [
    {
     "data": {
      "text/plain": [
       "21297.18775681187"
      ]
     },
     "execution_count": 45,
     "metadata": {},
     "output_type": "execute_result"
    }
   ],
   "source": [
    "np.sqrt(metrics.mean_squared_error(y_test,predictions))"
   ]
  },
  {
   "cell_type": "code",
   "execution_count": 10,
   "metadata": {},
   "outputs": [],
   "source": [
    "from sklearn import linear_model\n",
    "import statsmodels.api as sm"
   ]
  },
  {
   "cell_type": "code",
   "execution_count": 11,
   "metadata": {},
   "outputs": [
    {
     "data": {
      "text/plain": [
       "LinearRegression()"
      ]
     },
     "execution_count": 11,
     "metadata": {},
     "output_type": "execute_result"
    }
   ],
   "source": [
    "regr = linear_model.LinearRegression()\n",
    "regr.fit(X,y)"
   ]
  },
  {
   "cell_type": "code",
   "execution_count": 12,
   "metadata": {},
   "outputs": [
    {
     "name": "stdout",
     "output_type": "stream",
     "text": [
      "Intercept: \n",
      " -1079795.597033787\n",
      "Coefficients: \n",
      " [ 9.90303391e+05 -3.82569331e+06  1.83635787e+03  1.15016429e+02\n",
      "  3.19895766e+04 -1.28164693e+04 -2.56769948e+05]\n"
     ]
    }
   ],
   "source": [
    "print('Intercept: \\n', regr.intercept_)\n",
    "print('Coefficients: \\n', regr.coef_)"
   ]
  },
  {
   "cell_type": "code",
   "execution_count": 16,
   "metadata": {},
   "outputs": [],
   "source": [
    "new_2019 = df.iloc[76:80][['Euro Area debt in percent of GDP',\n",
    "       'unemployment rate', 'industry index', 'ESI', 'trade openess index',\n",
    "       'HICP index change(inflation)', 'capacity utilization in percent']]\n",
    "\n"
   ]
  },
  {
   "cell_type": "code",
   "execution_count": 26,
   "metadata": {},
   "outputs": [],
   "source": [
    "new_2019 = new_2019.astype(np.float64)"
   ]
  },
  {
   "cell_type": "code",
   "execution_count": 29,
   "metadata": {},
   "outputs": [
    {
     "data": {
      "text/plain": [
       "array([2997234.08882672, 3002806.86910713, 3048555.91858716,\n",
       "       3039603.54816501])"
      ]
     },
     "execution_count": 29,
     "metadata": {},
     "output_type": "execute_result"
    }
   ],
   "source": [
    "regr.predict(new_2019)"
   ]
  },
  {
   "cell_type": "code",
   "execution_count": 32,
   "metadata": {},
   "outputs": [],
   "source": [
    "y = df.iloc[76:80]['GDP in millions of euros']"
   ]
  },
  {
   "cell_type": "code",
   "execution_count": 33,
   "metadata": {},
   "outputs": [
    {
     "data": {
      "text/plain": [
       "observation_date\n",
       "2019-01-01    2959075.2\n",
       "2019-04-01    2977807.7\n",
       "2019-07-01    2997157.8\n",
       "2019-10-01    3013108.2\n",
       "Name: GDP in millions of euros, dtype: float64"
      ]
     },
     "execution_count": 33,
     "metadata": {},
     "output_type": "execute_result"
    }
   ],
   "source": [
    "y"
   ]
  },
  {
   "cell_type": "code",
   "execution_count": null,
   "metadata": {},
   "outputs": [],
   "source": []
  }
 ],
 "metadata": {
  "kernelspec": {
   "display_name": "Python 3",
   "language": "python",
   "name": "python3"
  },
  "language_info": {
   "codemirror_mode": {
    "name": "ipython",
    "version": 3
   },
   "file_extension": ".py",
   "mimetype": "text/x-python",
   "name": "python",
   "nbconvert_exporter": "python",
   "pygments_lexer": "ipython3",
   "version": "3.8.3"
  }
 },
 "nbformat": 4,
 "nbformat_minor": 4
}
